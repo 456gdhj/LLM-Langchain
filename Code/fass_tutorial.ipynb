{
  "nbformat": 4,
  "nbformat_minor": 0,
  "metadata": {
    "colab": {
      "provenance": []
    },
    "kernelspec": {
      "name": "python3",
      "display_name": "Python 3"
    },
    "language_info": {
      "name": "python"
    }
  },
  "cells": [
    {
      "cell_type": "code",
      "source": [
        "!pip install faiss-cpu\n",
        "!pip install sentence-transformers"
      ],
      "metadata": {
        "colab": {
          "base_uri": "https://localhost:8080/"
        },
        "id": "PI4nNA7IQ5V6",
        "outputId": "c08acd01-bfa5-49c8-c0df-d8c9fa11c305"
      },
      "execution_count": null,
      "outputs": [
        {
          "output_type": "stream",
          "name": "stdout",
          "text": [
            "Requirement already satisfied: faiss-cpu in /usr/local/lib/python3.11/dist-packages (1.11.0)\n",
            "Requirement already satisfied: numpy<3.0,>=1.25.0 in /usr/local/lib/python3.11/dist-packages (from faiss-cpu) (2.0.2)\n",
            "Requirement already satisfied: packaging in /usr/local/lib/python3.11/dist-packages (from faiss-cpu) (24.2)\n",
            "Requirement already satisfied: sentence-transformers in /usr/local/lib/python3.11/dist-packages (4.1.0)\n",
            "Requirement already satisfied: transformers<5.0.0,>=4.41.0 in /usr/local/lib/python3.11/dist-packages (from sentence-transformers) (4.52.4)\n",
            "Requirement already satisfied: tqdm in /usr/local/lib/python3.11/dist-packages (from sentence-transformers) (4.67.1)\n",
            "Requirement already satisfied: torch>=1.11.0 in /usr/local/lib/python3.11/dist-packages (from sentence-transformers) (2.6.0+cu124)\n",
            "Requirement already satisfied: scikit-learn in /usr/local/lib/python3.11/dist-packages (from sentence-transformers) (1.6.1)\n",
            "Requirement already satisfied: scipy in /usr/local/lib/python3.11/dist-packages (from sentence-transformers) (1.15.3)\n",
            "Requirement already satisfied: huggingface-hub>=0.20.0 in /usr/local/lib/python3.11/dist-packages (from sentence-transformers) (0.32.4)\n",
            "Requirement already satisfied: Pillow in /usr/local/lib/python3.11/dist-packages (from sentence-transformers) (11.2.1)\n",
            "Requirement already satisfied: typing_extensions>=4.5.0 in /usr/local/lib/python3.11/dist-packages (from sentence-transformers) (4.14.0)\n",
            "Requirement already satisfied: filelock in /usr/local/lib/python3.11/dist-packages (from huggingface-hub>=0.20.0->sentence-transformers) (3.18.0)\n",
            "Requirement already satisfied: fsspec>=2023.5.0 in /usr/local/lib/python3.11/dist-packages (from huggingface-hub>=0.20.0->sentence-transformers) (2025.3.2)\n",
            "Requirement already satisfied: packaging>=20.9 in /usr/local/lib/python3.11/dist-packages (from huggingface-hub>=0.20.0->sentence-transformers) (24.2)\n",
            "Requirement already satisfied: pyyaml>=5.1 in /usr/local/lib/python3.11/dist-packages (from huggingface-hub>=0.20.0->sentence-transformers) (6.0.2)\n",
            "Requirement already satisfied: requests in /usr/local/lib/python3.11/dist-packages (from huggingface-hub>=0.20.0->sentence-transformers) (2.32.3)\n",
            "Requirement already satisfied: hf-xet<2.0.0,>=1.1.2 in /usr/local/lib/python3.11/dist-packages (from huggingface-hub>=0.20.0->sentence-transformers) (1.1.2)\n",
            "Requirement already satisfied: networkx in /usr/local/lib/python3.11/dist-packages (from torch>=1.11.0->sentence-transformers) (3.5)\n",
            "Requirement already satisfied: jinja2 in /usr/local/lib/python3.11/dist-packages (from torch>=1.11.0->sentence-transformers) (3.1.6)\n",
            "Requirement already satisfied: nvidia-cuda-nvrtc-cu12==12.4.127 in /usr/local/lib/python3.11/dist-packages (from torch>=1.11.0->sentence-transformers) (12.4.127)\n",
            "Requirement already satisfied: nvidia-cuda-runtime-cu12==12.4.127 in /usr/local/lib/python3.11/dist-packages (from torch>=1.11.0->sentence-transformers) (12.4.127)\n",
            "Requirement already satisfied: nvidia-cuda-cupti-cu12==12.4.127 in /usr/local/lib/python3.11/dist-packages (from torch>=1.11.0->sentence-transformers) (12.4.127)\n",
            "Requirement already satisfied: nvidia-cudnn-cu12==9.1.0.70 in /usr/local/lib/python3.11/dist-packages (from torch>=1.11.0->sentence-transformers) (9.1.0.70)\n",
            "Requirement already satisfied: nvidia-cublas-cu12==12.4.5.8 in /usr/local/lib/python3.11/dist-packages (from torch>=1.11.0->sentence-transformers) (12.4.5.8)\n",
            "Requirement already satisfied: nvidia-cufft-cu12==11.2.1.3 in /usr/local/lib/python3.11/dist-packages (from torch>=1.11.0->sentence-transformers) (11.2.1.3)\n",
            "Requirement already satisfied: nvidia-curand-cu12==10.3.5.147 in /usr/local/lib/python3.11/dist-packages (from torch>=1.11.0->sentence-transformers) (10.3.5.147)\n",
            "Requirement already satisfied: nvidia-cusolver-cu12==11.6.1.9 in /usr/local/lib/python3.11/dist-packages (from torch>=1.11.0->sentence-transformers) (11.6.1.9)\n",
            "Requirement already satisfied: nvidia-cusparse-cu12==12.3.1.170 in /usr/local/lib/python3.11/dist-packages (from torch>=1.11.0->sentence-transformers) (12.3.1.170)\n",
            "Requirement already satisfied: nvidia-cusparselt-cu12==0.6.2 in /usr/local/lib/python3.11/dist-packages (from torch>=1.11.0->sentence-transformers) (0.6.2)\n",
            "Requirement already satisfied: nvidia-nccl-cu12==2.21.5 in /usr/local/lib/python3.11/dist-packages (from torch>=1.11.0->sentence-transformers) (2.21.5)\n",
            "Requirement already satisfied: nvidia-nvtx-cu12==12.4.127 in /usr/local/lib/python3.11/dist-packages (from torch>=1.11.0->sentence-transformers) (12.4.127)\n",
            "Requirement already satisfied: nvidia-nvjitlink-cu12==12.4.127 in /usr/local/lib/python3.11/dist-packages (from torch>=1.11.0->sentence-transformers) (12.4.127)\n",
            "Requirement already satisfied: triton==3.2.0 in /usr/local/lib/python3.11/dist-packages (from torch>=1.11.0->sentence-transformers) (3.2.0)\n",
            "Requirement already satisfied: sympy==1.13.1 in /usr/local/lib/python3.11/dist-packages (from torch>=1.11.0->sentence-transformers) (1.13.1)\n",
            "Requirement already satisfied: mpmath<1.4,>=1.1.0 in /usr/local/lib/python3.11/dist-packages (from sympy==1.13.1->torch>=1.11.0->sentence-transformers) (1.3.0)\n",
            "Requirement already satisfied: numpy>=1.17 in /usr/local/lib/python3.11/dist-packages (from transformers<5.0.0,>=4.41.0->sentence-transformers) (2.0.2)\n",
            "Requirement already satisfied: regex!=2019.12.17 in /usr/local/lib/python3.11/dist-packages (from transformers<5.0.0,>=4.41.0->sentence-transformers) (2024.11.6)\n",
            "Requirement already satisfied: tokenizers<0.22,>=0.21 in /usr/local/lib/python3.11/dist-packages (from transformers<5.0.0,>=4.41.0->sentence-transformers) (0.21.1)\n",
            "Requirement already satisfied: safetensors>=0.4.3 in /usr/local/lib/python3.11/dist-packages (from transformers<5.0.0,>=4.41.0->sentence-transformers) (0.5.3)\n",
            "Requirement already satisfied: joblib>=1.2.0 in /usr/local/lib/python3.11/dist-packages (from scikit-learn->sentence-transformers) (1.5.1)\n",
            "Requirement already satisfied: threadpoolctl>=3.1.0 in /usr/local/lib/python3.11/dist-packages (from scikit-learn->sentence-transformers) (3.6.0)\n",
            "Requirement already satisfied: MarkupSafe>=2.0 in /usr/local/lib/python3.11/dist-packages (from jinja2->torch>=1.11.0->sentence-transformers) (3.0.2)\n",
            "Requirement already satisfied: charset-normalizer<4,>=2 in /usr/local/lib/python3.11/dist-packages (from requests->huggingface-hub>=0.20.0->sentence-transformers) (3.4.2)\n",
            "Requirement already satisfied: idna<4,>=2.5 in /usr/local/lib/python3.11/dist-packages (from requests->huggingface-hub>=0.20.0->sentence-transformers) (3.10)\n",
            "Requirement already satisfied: urllib3<3,>=1.21.1 in /usr/local/lib/python3.11/dist-packages (from requests->huggingface-hub>=0.20.0->sentence-transformers) (2.4.0)\n",
            "Requirement already satisfied: certifi>=2017.4.17 in /usr/local/lib/python3.11/dist-packages (from requests->huggingface-hub>=0.20.0->sentence-transformers) (2025.4.26)\n"
          ]
        }
      ]
    },
    {
      "cell_type": "code",
      "source": [
        "import pandas as pd\n",
        "pd.set_option('display.max_colwidth', 100)"
      ],
      "metadata": {
        "id": "k6WrDn0xRBG6"
      },
      "execution_count": null,
      "outputs": []
    },
    {
      "cell_type": "code",
      "source": [
        "from google.colab import files\n",
        "uploaded = files.upload()\n"
      ],
      "metadata": {
        "colab": {
          "base_uri": "https://localhost:8080/",
          "height": 73
        },
        "id": "DhaVHkqaRf5K",
        "outputId": "592316b6-0780-4c45-bac3-6cb8363ec8d7"
      },
      "execution_count": null,
      "outputs": [
        {
          "output_type": "display_data",
          "data": {
            "text/plain": [
              "<IPython.core.display.HTML object>"
            ],
            "text/html": [
              "\n",
              "     <input type=\"file\" id=\"files-d3c88634-63e1-4ff6-a00c-ce4efdec2b13\" name=\"files[]\" multiple disabled\n",
              "        style=\"border:none\" />\n",
              "     <output id=\"result-d3c88634-63e1-4ff6-a00c-ce4efdec2b13\">\n",
              "      Upload widget is only available when the cell has been executed in the\n",
              "      current browser session. Please rerun this cell to enable.\n",
              "      </output>\n",
              "      <script>// Copyright 2017 Google LLC\n",
              "//\n",
              "// Licensed under the Apache License, Version 2.0 (the \"License\");\n",
              "// you may not use this file except in compliance with the License.\n",
              "// You may obtain a copy of the License at\n",
              "//\n",
              "//      http://www.apache.org/licenses/LICENSE-2.0\n",
              "//\n",
              "// Unless required by applicable law or agreed to in writing, software\n",
              "// distributed under the License is distributed on an \"AS IS\" BASIS,\n",
              "// WITHOUT WARRANTIES OR CONDITIONS OF ANY KIND, either express or implied.\n",
              "// See the License for the specific language governing permissions and\n",
              "// limitations under the License.\n",
              "\n",
              "/**\n",
              " * @fileoverview Helpers for google.colab Python module.\n",
              " */\n",
              "(function(scope) {\n",
              "function span(text, styleAttributes = {}) {\n",
              "  const element = document.createElement('span');\n",
              "  element.textContent = text;\n",
              "  for (const key of Object.keys(styleAttributes)) {\n",
              "    element.style[key] = styleAttributes[key];\n",
              "  }\n",
              "  return element;\n",
              "}\n",
              "\n",
              "// Max number of bytes which will be uploaded at a time.\n",
              "const MAX_PAYLOAD_SIZE = 100 * 1024;\n",
              "\n",
              "function _uploadFiles(inputId, outputId) {\n",
              "  const steps = uploadFilesStep(inputId, outputId);\n",
              "  const outputElement = document.getElementById(outputId);\n",
              "  // Cache steps on the outputElement to make it available for the next call\n",
              "  // to uploadFilesContinue from Python.\n",
              "  outputElement.steps = steps;\n",
              "\n",
              "  return _uploadFilesContinue(outputId);\n",
              "}\n",
              "\n",
              "// This is roughly an async generator (not supported in the browser yet),\n",
              "// where there are multiple asynchronous steps and the Python side is going\n",
              "// to poll for completion of each step.\n",
              "// This uses a Promise to block the python side on completion of each step,\n",
              "// then passes the result of the previous step as the input to the next step.\n",
              "function _uploadFilesContinue(outputId) {\n",
              "  const outputElement = document.getElementById(outputId);\n",
              "  const steps = outputElement.steps;\n",
              "\n",
              "  const next = steps.next(outputElement.lastPromiseValue);\n",
              "  return Promise.resolve(next.value.promise).then((value) => {\n",
              "    // Cache the last promise value to make it available to the next\n",
              "    // step of the generator.\n",
              "    outputElement.lastPromiseValue = value;\n",
              "    return next.value.response;\n",
              "  });\n",
              "}\n",
              "\n",
              "/**\n",
              " * Generator function which is called between each async step of the upload\n",
              " * process.\n",
              " * @param {string} inputId Element ID of the input file picker element.\n",
              " * @param {string} outputId Element ID of the output display.\n",
              " * @return {!Iterable<!Object>} Iterable of next steps.\n",
              " */\n",
              "function* uploadFilesStep(inputId, outputId) {\n",
              "  const inputElement = document.getElementById(inputId);\n",
              "  inputElement.disabled = false;\n",
              "\n",
              "  const outputElement = document.getElementById(outputId);\n",
              "  outputElement.innerHTML = '';\n",
              "\n",
              "  const pickedPromise = new Promise((resolve) => {\n",
              "    inputElement.addEventListener('change', (e) => {\n",
              "      resolve(e.target.files);\n",
              "    });\n",
              "  });\n",
              "\n",
              "  const cancel = document.createElement('button');\n",
              "  inputElement.parentElement.appendChild(cancel);\n",
              "  cancel.textContent = 'Cancel upload';\n",
              "  const cancelPromise = new Promise((resolve) => {\n",
              "    cancel.onclick = () => {\n",
              "      resolve(null);\n",
              "    };\n",
              "  });\n",
              "\n",
              "  // Wait for the user to pick the files.\n",
              "  const files = yield {\n",
              "    promise: Promise.race([pickedPromise, cancelPromise]),\n",
              "    response: {\n",
              "      action: 'starting',\n",
              "    }\n",
              "  };\n",
              "\n",
              "  cancel.remove();\n",
              "\n",
              "  // Disable the input element since further picks are not allowed.\n",
              "  inputElement.disabled = true;\n",
              "\n",
              "  if (!files) {\n",
              "    return {\n",
              "      response: {\n",
              "        action: 'complete',\n",
              "      }\n",
              "    };\n",
              "  }\n",
              "\n",
              "  for (const file of files) {\n",
              "    const li = document.createElement('li');\n",
              "    li.append(span(file.name, {fontWeight: 'bold'}));\n",
              "    li.append(span(\n",
              "        `(${file.type || 'n/a'}) - ${file.size} bytes, ` +\n",
              "        `last modified: ${\n",
              "            file.lastModifiedDate ? file.lastModifiedDate.toLocaleDateString() :\n",
              "                                    'n/a'} - `));\n",
              "    const percent = span('0% done');\n",
              "    li.appendChild(percent);\n",
              "\n",
              "    outputElement.appendChild(li);\n",
              "\n",
              "    const fileDataPromise = new Promise((resolve) => {\n",
              "      const reader = new FileReader();\n",
              "      reader.onload = (e) => {\n",
              "        resolve(e.target.result);\n",
              "      };\n",
              "      reader.readAsArrayBuffer(file);\n",
              "    });\n",
              "    // Wait for the data to be ready.\n",
              "    let fileData = yield {\n",
              "      promise: fileDataPromise,\n",
              "      response: {\n",
              "        action: 'continue',\n",
              "      }\n",
              "    };\n",
              "\n",
              "    // Use a chunked sending to avoid message size limits. See b/62115660.\n",
              "    let position = 0;\n",
              "    do {\n",
              "      const length = Math.min(fileData.byteLength - position, MAX_PAYLOAD_SIZE);\n",
              "      const chunk = new Uint8Array(fileData, position, length);\n",
              "      position += length;\n",
              "\n",
              "      const base64 = btoa(String.fromCharCode.apply(null, chunk));\n",
              "      yield {\n",
              "        response: {\n",
              "          action: 'append',\n",
              "          file: file.name,\n",
              "          data: base64,\n",
              "        },\n",
              "      };\n",
              "\n",
              "      let percentDone = fileData.byteLength === 0 ?\n",
              "          100 :\n",
              "          Math.round((position / fileData.byteLength) * 100);\n",
              "      percent.textContent = `${percentDone}% done`;\n",
              "\n",
              "    } while (position < fileData.byteLength);\n",
              "  }\n",
              "\n",
              "  // All done.\n",
              "  yield {\n",
              "    response: {\n",
              "      action: 'complete',\n",
              "    }\n",
              "  };\n",
              "}\n",
              "\n",
              "scope.google = scope.google || {};\n",
              "scope.google.colab = scope.google.colab || {};\n",
              "scope.google.colab._files = {\n",
              "  _uploadFiles,\n",
              "  _uploadFilesContinue,\n",
              "};\n",
              "})(self);\n",
              "</script> "
            ]
          },
          "metadata": {}
        },
        {
          "output_type": "stream",
          "name": "stdout",
          "text": [
            "Saving sample_text.csv to sample_text (1).csv\n"
          ]
        }
      ]
    },
    {
      "cell_type": "code",
      "source": [
        "df = pd.read_csv(\"sample_text.csv\")\n",
        "df.shape"
      ],
      "metadata": {
        "colab": {
          "base_uri": "https://localhost:8080/"
        },
        "id": "ZVAzjcskRlB4",
        "outputId": "48a1ebd0-d182-46cf-c14e-628f9b336122"
      },
      "execution_count": null,
      "outputs": [
        {
          "output_type": "execute_result",
          "data": {
            "text/plain": [
              "(8, 2)"
            ]
          },
          "metadata": {},
          "execution_count": 8
        }
      ]
    },
    {
      "cell_type": "code",
      "source": [
        "df\n"
      ],
      "metadata": {
        "colab": {
          "base_uri": "https://localhost:8080/",
          "height": 317
        },
        "id": "2OSq5NwmRoiQ",
        "outputId": "d810c8fd-82d9-4c71-92e2-62d09f0a5ae3"
      },
      "execution_count": null,
      "outputs": [
        {
          "output_type": "execute_result",
          "data": {
            "text/plain": [
              "                                                                                  text  \\\n",
              "0                                        Meditation and yoga can improve mental health   \n",
              "1                     Fruits, whole grains and vegetables helps control blood pressure   \n",
              "2                                    These are the latest fashion trends for this week   \n",
              "3                                    Vibrant color jeans for male are becoming a trend   \n",
              "4                                                   The concert starts at 7 PM tonight   \n",
              "5                      Navaratri dandiya program at Expo center in Mumbai this october   \n",
              "6                                    Exciting vacation destinations for your next trip   \n",
              "7  Maldives and Srilanka are gaining popularity in terms of low budget vacation places   \n",
              "\n",
              "  category  \n",
              "0   Health  \n",
              "1   Health  \n",
              "2  Fashion  \n",
              "3  Fashion  \n",
              "4    Event  \n",
              "5    Event  \n",
              "6   Travel  \n",
              "7   Travel  "
            ],
            "text/html": [
              "\n",
              "  <div id=\"df-cbaff007-bead-43f3-a987-df7a589a6ef9\" class=\"colab-df-container\">\n",
              "    <div>\n",
              "<style scoped>\n",
              "    .dataframe tbody tr th:only-of-type {\n",
              "        vertical-align: middle;\n",
              "    }\n",
              "\n",
              "    .dataframe tbody tr th {\n",
              "        vertical-align: top;\n",
              "    }\n",
              "\n",
              "    .dataframe thead th {\n",
              "        text-align: right;\n",
              "    }\n",
              "</style>\n",
              "<table border=\"1\" class=\"dataframe\">\n",
              "  <thead>\n",
              "    <tr style=\"text-align: right;\">\n",
              "      <th></th>\n",
              "      <th>text</th>\n",
              "      <th>category</th>\n",
              "    </tr>\n",
              "  </thead>\n",
              "  <tbody>\n",
              "    <tr>\n",
              "      <th>0</th>\n",
              "      <td>Meditation and yoga can improve mental health</td>\n",
              "      <td>Health</td>\n",
              "    </tr>\n",
              "    <tr>\n",
              "      <th>1</th>\n",
              "      <td>Fruits, whole grains and vegetables helps control blood pressure</td>\n",
              "      <td>Health</td>\n",
              "    </tr>\n",
              "    <tr>\n",
              "      <th>2</th>\n",
              "      <td>These are the latest fashion trends for this week</td>\n",
              "      <td>Fashion</td>\n",
              "    </tr>\n",
              "    <tr>\n",
              "      <th>3</th>\n",
              "      <td>Vibrant color jeans for male are becoming a trend</td>\n",
              "      <td>Fashion</td>\n",
              "    </tr>\n",
              "    <tr>\n",
              "      <th>4</th>\n",
              "      <td>The concert starts at 7 PM tonight</td>\n",
              "      <td>Event</td>\n",
              "    </tr>\n",
              "    <tr>\n",
              "      <th>5</th>\n",
              "      <td>Navaratri dandiya program at Expo center in Mumbai this october</td>\n",
              "      <td>Event</td>\n",
              "    </tr>\n",
              "    <tr>\n",
              "      <th>6</th>\n",
              "      <td>Exciting vacation destinations for your next trip</td>\n",
              "      <td>Travel</td>\n",
              "    </tr>\n",
              "    <tr>\n",
              "      <th>7</th>\n",
              "      <td>Maldives and Srilanka are gaining popularity in terms of low budget vacation places</td>\n",
              "      <td>Travel</td>\n",
              "    </tr>\n",
              "  </tbody>\n",
              "</table>\n",
              "</div>\n",
              "    <div class=\"colab-df-buttons\">\n",
              "\n",
              "  <div class=\"colab-df-container\">\n",
              "    <button class=\"colab-df-convert\" onclick=\"convertToInteractive('df-cbaff007-bead-43f3-a987-df7a589a6ef9')\"\n",
              "            title=\"Convert this dataframe to an interactive table.\"\n",
              "            style=\"display:none;\">\n",
              "\n",
              "  <svg xmlns=\"http://www.w3.org/2000/svg\" height=\"24px\" viewBox=\"0 -960 960 960\">\n",
              "    <path d=\"M120-120v-720h720v720H120Zm60-500h600v-160H180v160Zm220 220h160v-160H400v160Zm0 220h160v-160H400v160ZM180-400h160v-160H180v160Zm440 0h160v-160H620v160ZM180-180h160v-160H180v160Zm440 0h160v-160H620v160Z\"/>\n",
              "  </svg>\n",
              "    </button>\n",
              "\n",
              "  <style>\n",
              "    .colab-df-container {\n",
              "      display:flex;\n",
              "      gap: 12px;\n",
              "    }\n",
              "\n",
              "    .colab-df-convert {\n",
              "      background-color: #E8F0FE;\n",
              "      border: none;\n",
              "      border-radius: 50%;\n",
              "      cursor: pointer;\n",
              "      display: none;\n",
              "      fill: #1967D2;\n",
              "      height: 32px;\n",
              "      padding: 0 0 0 0;\n",
              "      width: 32px;\n",
              "    }\n",
              "\n",
              "    .colab-df-convert:hover {\n",
              "      background-color: #E2EBFA;\n",
              "      box-shadow: 0px 1px 2px rgba(60, 64, 67, 0.3), 0px 1px 3px 1px rgba(60, 64, 67, 0.15);\n",
              "      fill: #174EA6;\n",
              "    }\n",
              "\n",
              "    .colab-df-buttons div {\n",
              "      margin-bottom: 4px;\n",
              "    }\n",
              "\n",
              "    [theme=dark] .colab-df-convert {\n",
              "      background-color: #3B4455;\n",
              "      fill: #D2E3FC;\n",
              "    }\n",
              "\n",
              "    [theme=dark] .colab-df-convert:hover {\n",
              "      background-color: #434B5C;\n",
              "      box-shadow: 0px 1px 3px 1px rgba(0, 0, 0, 0.15);\n",
              "      filter: drop-shadow(0px 1px 2px rgba(0, 0, 0, 0.3));\n",
              "      fill: #FFFFFF;\n",
              "    }\n",
              "  </style>\n",
              "\n",
              "    <script>\n",
              "      const buttonEl =\n",
              "        document.querySelector('#df-cbaff007-bead-43f3-a987-df7a589a6ef9 button.colab-df-convert');\n",
              "      buttonEl.style.display =\n",
              "        google.colab.kernel.accessAllowed ? 'block' : 'none';\n",
              "\n",
              "      async function convertToInteractive(key) {\n",
              "        const element = document.querySelector('#df-cbaff007-bead-43f3-a987-df7a589a6ef9');\n",
              "        const dataTable =\n",
              "          await google.colab.kernel.invokeFunction('convertToInteractive',\n",
              "                                                    [key], {});\n",
              "        if (!dataTable) return;\n",
              "\n",
              "        const docLinkHtml = 'Like what you see? Visit the ' +\n",
              "          '<a target=\"_blank\" href=https://colab.research.google.com/notebooks/data_table.ipynb>data table notebook</a>'\n",
              "          + ' to learn more about interactive tables.';\n",
              "        element.innerHTML = '';\n",
              "        dataTable['output_type'] = 'display_data';\n",
              "        await google.colab.output.renderOutput(dataTable, element);\n",
              "        const docLink = document.createElement('div');\n",
              "        docLink.innerHTML = docLinkHtml;\n",
              "        element.appendChild(docLink);\n",
              "      }\n",
              "    </script>\n",
              "  </div>\n",
              "\n",
              "\n",
              "    <div id=\"df-2c260174-6688-4f80-97ff-2aa85cbed66d\">\n",
              "      <button class=\"colab-df-quickchart\" onclick=\"quickchart('df-2c260174-6688-4f80-97ff-2aa85cbed66d')\"\n",
              "                title=\"Suggest charts\"\n",
              "                style=\"display:none;\">\n",
              "\n",
              "<svg xmlns=\"http://www.w3.org/2000/svg\" height=\"24px\"viewBox=\"0 0 24 24\"\n",
              "     width=\"24px\">\n",
              "    <g>\n",
              "        <path d=\"M19 3H5c-1.1 0-2 .9-2 2v14c0 1.1.9 2 2 2h14c1.1 0 2-.9 2-2V5c0-1.1-.9-2-2-2zM9 17H7v-7h2v7zm4 0h-2V7h2v10zm4 0h-2v-4h2v4z\"/>\n",
              "    </g>\n",
              "</svg>\n",
              "      </button>\n",
              "\n",
              "<style>\n",
              "  .colab-df-quickchart {\n",
              "      --bg-color: #E8F0FE;\n",
              "      --fill-color: #1967D2;\n",
              "      --hover-bg-color: #E2EBFA;\n",
              "      --hover-fill-color: #174EA6;\n",
              "      --disabled-fill-color: #AAA;\n",
              "      --disabled-bg-color: #DDD;\n",
              "  }\n",
              "\n",
              "  [theme=dark] .colab-df-quickchart {\n",
              "      --bg-color: #3B4455;\n",
              "      --fill-color: #D2E3FC;\n",
              "      --hover-bg-color: #434B5C;\n",
              "      --hover-fill-color: #FFFFFF;\n",
              "      --disabled-bg-color: #3B4455;\n",
              "      --disabled-fill-color: #666;\n",
              "  }\n",
              "\n",
              "  .colab-df-quickchart {\n",
              "    background-color: var(--bg-color);\n",
              "    border: none;\n",
              "    border-radius: 50%;\n",
              "    cursor: pointer;\n",
              "    display: none;\n",
              "    fill: var(--fill-color);\n",
              "    height: 32px;\n",
              "    padding: 0;\n",
              "    width: 32px;\n",
              "  }\n",
              "\n",
              "  .colab-df-quickchart:hover {\n",
              "    background-color: var(--hover-bg-color);\n",
              "    box-shadow: 0 1px 2px rgba(60, 64, 67, 0.3), 0 1px 3px 1px rgba(60, 64, 67, 0.15);\n",
              "    fill: var(--button-hover-fill-color);\n",
              "  }\n",
              "\n",
              "  .colab-df-quickchart-complete:disabled,\n",
              "  .colab-df-quickchart-complete:disabled:hover {\n",
              "    background-color: var(--disabled-bg-color);\n",
              "    fill: var(--disabled-fill-color);\n",
              "    box-shadow: none;\n",
              "  }\n",
              "\n",
              "  .colab-df-spinner {\n",
              "    border: 2px solid var(--fill-color);\n",
              "    border-color: transparent;\n",
              "    border-bottom-color: var(--fill-color);\n",
              "    animation:\n",
              "      spin 1s steps(1) infinite;\n",
              "  }\n",
              "\n",
              "  @keyframes spin {\n",
              "    0% {\n",
              "      border-color: transparent;\n",
              "      border-bottom-color: var(--fill-color);\n",
              "      border-left-color: var(--fill-color);\n",
              "    }\n",
              "    20% {\n",
              "      border-color: transparent;\n",
              "      border-left-color: var(--fill-color);\n",
              "      border-top-color: var(--fill-color);\n",
              "    }\n",
              "    30% {\n",
              "      border-color: transparent;\n",
              "      border-left-color: var(--fill-color);\n",
              "      border-top-color: var(--fill-color);\n",
              "      border-right-color: var(--fill-color);\n",
              "    }\n",
              "    40% {\n",
              "      border-color: transparent;\n",
              "      border-right-color: var(--fill-color);\n",
              "      border-top-color: var(--fill-color);\n",
              "    }\n",
              "    60% {\n",
              "      border-color: transparent;\n",
              "      border-right-color: var(--fill-color);\n",
              "    }\n",
              "    80% {\n",
              "      border-color: transparent;\n",
              "      border-right-color: var(--fill-color);\n",
              "      border-bottom-color: var(--fill-color);\n",
              "    }\n",
              "    90% {\n",
              "      border-color: transparent;\n",
              "      border-bottom-color: var(--fill-color);\n",
              "    }\n",
              "  }\n",
              "</style>\n",
              "\n",
              "      <script>\n",
              "        async function quickchart(key) {\n",
              "          const quickchartButtonEl =\n",
              "            document.querySelector('#' + key + ' button');\n",
              "          quickchartButtonEl.disabled = true;  // To prevent multiple clicks.\n",
              "          quickchartButtonEl.classList.add('colab-df-spinner');\n",
              "          try {\n",
              "            const charts = await google.colab.kernel.invokeFunction(\n",
              "                'suggestCharts', [key], {});\n",
              "          } catch (error) {\n",
              "            console.error('Error during call to suggestCharts:', error);\n",
              "          }\n",
              "          quickchartButtonEl.classList.remove('colab-df-spinner');\n",
              "          quickchartButtonEl.classList.add('colab-df-quickchart-complete');\n",
              "        }\n",
              "        (() => {\n",
              "          let quickchartButtonEl =\n",
              "            document.querySelector('#df-2c260174-6688-4f80-97ff-2aa85cbed66d button');\n",
              "          quickchartButtonEl.style.display =\n",
              "            google.colab.kernel.accessAllowed ? 'block' : 'none';\n",
              "        })();\n",
              "      </script>\n",
              "    </div>\n",
              "\n",
              "  <div id=\"id_ba5d41db-0b9d-43b4-b476-d309dc9595f8\">\n",
              "    <style>\n",
              "      .colab-df-generate {\n",
              "        background-color: #E8F0FE;\n",
              "        border: none;\n",
              "        border-radius: 50%;\n",
              "        cursor: pointer;\n",
              "        display: none;\n",
              "        fill: #1967D2;\n",
              "        height: 32px;\n",
              "        padding: 0 0 0 0;\n",
              "        width: 32px;\n",
              "      }\n",
              "\n",
              "      .colab-df-generate:hover {\n",
              "        background-color: #E2EBFA;\n",
              "        box-shadow: 0px 1px 2px rgba(60, 64, 67, 0.3), 0px 1px 3px 1px rgba(60, 64, 67, 0.15);\n",
              "        fill: #174EA6;\n",
              "      }\n",
              "\n",
              "      [theme=dark] .colab-df-generate {\n",
              "        background-color: #3B4455;\n",
              "        fill: #D2E3FC;\n",
              "      }\n",
              "\n",
              "      [theme=dark] .colab-df-generate:hover {\n",
              "        background-color: #434B5C;\n",
              "        box-shadow: 0px 1px 3px 1px rgba(0, 0, 0, 0.15);\n",
              "        filter: drop-shadow(0px 1px 2px rgba(0, 0, 0, 0.3));\n",
              "        fill: #FFFFFF;\n",
              "      }\n",
              "    </style>\n",
              "    <button class=\"colab-df-generate\" onclick=\"generateWithVariable('df')\"\n",
              "            title=\"Generate code using this dataframe.\"\n",
              "            style=\"display:none;\">\n",
              "\n",
              "  <svg xmlns=\"http://www.w3.org/2000/svg\" height=\"24px\"viewBox=\"0 0 24 24\"\n",
              "       width=\"24px\">\n",
              "    <path d=\"M7,19H8.4L18.45,9,17,7.55,7,17.6ZM5,21V16.75L18.45,3.32a2,2,0,0,1,2.83,0l1.4,1.43a1.91,1.91,0,0,1,.58,1.4,1.91,1.91,0,0,1-.58,1.4L9.25,21ZM18.45,9,17,7.55Zm-12,3A5.31,5.31,0,0,0,4.9,8.1,5.31,5.31,0,0,0,1,6.5,5.31,5.31,0,0,0,4.9,4.9,5.31,5.31,0,0,0,6.5,1,5.31,5.31,0,0,0,8.1,4.9,5.31,5.31,0,0,0,12,6.5,5.46,5.46,0,0,0,6.5,12Z\"/>\n",
              "  </svg>\n",
              "    </button>\n",
              "    <script>\n",
              "      (() => {\n",
              "      const buttonEl =\n",
              "        document.querySelector('#id_ba5d41db-0b9d-43b4-b476-d309dc9595f8 button.colab-df-generate');\n",
              "      buttonEl.style.display =\n",
              "        google.colab.kernel.accessAllowed ? 'block' : 'none';\n",
              "\n",
              "      buttonEl.onclick = () => {\n",
              "        google.colab.notebook.generateWithVariable('df');\n",
              "      }\n",
              "      })();\n",
              "    </script>\n",
              "  </div>\n",
              "\n",
              "    </div>\n",
              "  </div>\n"
            ],
            "application/vnd.google.colaboratory.intrinsic+json": {
              "type": "dataframe",
              "variable_name": "df",
              "summary": "{\n  \"name\": \"df\",\n  \"rows\": 8,\n  \"fields\": [\n    {\n      \"column\": \"text\",\n      \"properties\": {\n        \"dtype\": \"string\",\n        \"num_unique_values\": 8,\n        \"samples\": [\n          \"Fruits, whole grains and vegetables helps control blood pressure\",\n          \"Navaratri dandiya program at Expo center in Mumbai this october\",\n          \"Meditation and yoga can improve mental health\"\n        ],\n        \"semantic_type\": \"\",\n        \"description\": \"\"\n      }\n    },\n    {\n      \"column\": \"category\",\n      \"properties\": {\n        \"dtype\": \"string\",\n        \"num_unique_values\": 4,\n        \"samples\": [\n          \"Fashion\",\n          \"Travel\",\n          \"Health\"\n        ],\n        \"semantic_type\": \"\",\n        \"description\": \"\"\n      }\n    }\n  ]\n}"
            }
          },
          "metadata": {},
          "execution_count": 9
        }
      ]
    },
    {
      "cell_type": "markdown",
      "source": [
        "# Step 1 : Create source embeddings for the text column"
      ],
      "metadata": {
        "id": "PHoomdORRxbT"
      }
    },
    {
      "cell_type": "code",
      "source": [
        "from sentence_transformers import SentenceTransformer"
      ],
      "metadata": {
        "id": "q6Tf3FsjRqzc"
      },
      "execution_count": null,
      "outputs": []
    },
    {
      "source": [
        "!pip install torch sentence-transformers"
      ],
      "cell_type": "code",
      "metadata": {
        "colab": {
          "base_uri": "https://localhost:8080/"
        },
        "id": "yriZ-J53SMbU",
        "outputId": "f414e63d-3649-4258-ddfc-77ffbeda66cd"
      },
      "execution_count": null,
      "outputs": [
        {
          "output_type": "stream",
          "name": "stdout",
          "text": [
            "Requirement already satisfied: torch in /usr/local/lib/python3.11/dist-packages (2.6.0+cu124)\n",
            "Requirement already satisfied: sentence-transformers in /usr/local/lib/python3.11/dist-packages (4.1.0)\n",
            "Requirement already satisfied: filelock in /usr/local/lib/python3.11/dist-packages (from torch) (3.18.0)\n",
            "Requirement already satisfied: typing-extensions>=4.10.0 in /usr/local/lib/python3.11/dist-packages (from torch) (4.14.0)\n",
            "Requirement already satisfied: networkx in /usr/local/lib/python3.11/dist-packages (from torch) (3.5)\n",
            "Requirement already satisfied: jinja2 in /usr/local/lib/python3.11/dist-packages (from torch) (3.1.6)\n",
            "Requirement already satisfied: fsspec in /usr/local/lib/python3.11/dist-packages (from torch) (2025.3.2)\n",
            "Requirement already satisfied: nvidia-cuda-nvrtc-cu12==12.4.127 in /usr/local/lib/python3.11/dist-packages (from torch) (12.4.127)\n",
            "Requirement already satisfied: nvidia-cuda-runtime-cu12==12.4.127 in /usr/local/lib/python3.11/dist-packages (from torch) (12.4.127)\n",
            "Requirement already satisfied: nvidia-cuda-cupti-cu12==12.4.127 in /usr/local/lib/python3.11/dist-packages (from torch) (12.4.127)\n",
            "Requirement already satisfied: nvidia-cudnn-cu12==9.1.0.70 in /usr/local/lib/python3.11/dist-packages (from torch) (9.1.0.70)\n",
            "Requirement already satisfied: nvidia-cublas-cu12==12.4.5.8 in /usr/local/lib/python3.11/dist-packages (from torch) (12.4.5.8)\n",
            "Requirement already satisfied: nvidia-cufft-cu12==11.2.1.3 in /usr/local/lib/python3.11/dist-packages (from torch) (11.2.1.3)\n",
            "Requirement already satisfied: nvidia-curand-cu12==10.3.5.147 in /usr/local/lib/python3.11/dist-packages (from torch) (10.3.5.147)\n",
            "Requirement already satisfied: nvidia-cusolver-cu12==11.6.1.9 in /usr/local/lib/python3.11/dist-packages (from torch) (11.6.1.9)\n",
            "Requirement already satisfied: nvidia-cusparse-cu12==12.3.1.170 in /usr/local/lib/python3.11/dist-packages (from torch) (12.3.1.170)\n",
            "Requirement already satisfied: nvidia-cusparselt-cu12==0.6.2 in /usr/local/lib/python3.11/dist-packages (from torch) (0.6.2)\n",
            "Requirement already satisfied: nvidia-nccl-cu12==2.21.5 in /usr/local/lib/python3.11/dist-packages (from torch) (2.21.5)\n",
            "Requirement already satisfied: nvidia-nvtx-cu12==12.4.127 in /usr/local/lib/python3.11/dist-packages (from torch) (12.4.127)\n",
            "Requirement already satisfied: nvidia-nvjitlink-cu12==12.4.127 in /usr/local/lib/python3.11/dist-packages (from torch) (12.4.127)\n",
            "Requirement already satisfied: triton==3.2.0 in /usr/local/lib/python3.11/dist-packages (from torch) (3.2.0)\n",
            "Requirement already satisfied: sympy==1.13.1 in /usr/local/lib/python3.11/dist-packages (from torch) (1.13.1)\n",
            "Requirement already satisfied: mpmath<1.4,>=1.1.0 in /usr/local/lib/python3.11/dist-packages (from sympy==1.13.1->torch) (1.3.0)\n",
            "Requirement already satisfied: transformers<5.0.0,>=4.41.0 in /usr/local/lib/python3.11/dist-packages (from sentence-transformers) (4.52.4)\n",
            "Requirement already satisfied: tqdm in /usr/local/lib/python3.11/dist-packages (from sentence-transformers) (4.67.1)\n",
            "Requirement already satisfied: scikit-learn in /usr/local/lib/python3.11/dist-packages (from sentence-transformers) (1.6.1)\n",
            "Requirement already satisfied: scipy in /usr/local/lib/python3.11/dist-packages (from sentence-transformers) (1.15.3)\n",
            "Requirement already satisfied: huggingface-hub>=0.20.0 in /usr/local/lib/python3.11/dist-packages (from sentence-transformers) (0.32.4)\n",
            "Requirement already satisfied: Pillow in /usr/local/lib/python3.11/dist-packages (from sentence-transformers) (11.2.1)\n",
            "Requirement already satisfied: packaging>=20.9 in /usr/local/lib/python3.11/dist-packages (from huggingface-hub>=0.20.0->sentence-transformers) (24.2)\n",
            "Requirement already satisfied: pyyaml>=5.1 in /usr/local/lib/python3.11/dist-packages (from huggingface-hub>=0.20.0->sentence-transformers) (6.0.2)\n",
            "Requirement already satisfied: requests in /usr/local/lib/python3.11/dist-packages (from huggingface-hub>=0.20.0->sentence-transformers) (2.32.3)\n",
            "Requirement already satisfied: hf-xet<2.0.0,>=1.1.2 in /usr/local/lib/python3.11/dist-packages (from huggingface-hub>=0.20.0->sentence-transformers) (1.1.2)\n",
            "Requirement already satisfied: numpy>=1.17 in /usr/local/lib/python3.11/dist-packages (from transformers<5.0.0,>=4.41.0->sentence-transformers) (2.0.2)\n",
            "Requirement already satisfied: regex!=2019.12.17 in /usr/local/lib/python3.11/dist-packages (from transformers<5.0.0,>=4.41.0->sentence-transformers) (2024.11.6)\n",
            "Requirement already satisfied: tokenizers<0.22,>=0.21 in /usr/local/lib/python3.11/dist-packages (from transformers<5.0.0,>=4.41.0->sentence-transformers) (0.21.1)\n",
            "Requirement already satisfied: safetensors>=0.4.3 in /usr/local/lib/python3.11/dist-packages (from transformers<5.0.0,>=4.41.0->sentence-transformers) (0.5.3)\n",
            "Requirement already satisfied: MarkupSafe>=2.0 in /usr/local/lib/python3.11/dist-packages (from jinja2->torch) (3.0.2)\n",
            "Requirement already satisfied: joblib>=1.2.0 in /usr/local/lib/python3.11/dist-packages (from scikit-learn->sentence-transformers) (1.5.1)\n",
            "Requirement already satisfied: threadpoolctl>=3.1.0 in /usr/local/lib/python3.11/dist-packages (from scikit-learn->sentence-transformers) (3.6.0)\n",
            "Requirement already satisfied: charset-normalizer<4,>=2 in /usr/local/lib/python3.11/dist-packages (from requests->huggingface-hub>=0.20.0->sentence-transformers) (3.4.2)\n",
            "Requirement already satisfied: idna<4,>=2.5 in /usr/local/lib/python3.11/dist-packages (from requests->huggingface-hub>=0.20.0->sentence-transformers) (3.10)\n",
            "Requirement already satisfied: urllib3<3,>=1.21.1 in /usr/local/lib/python3.11/dist-packages (from requests->huggingface-hub>=0.20.0->sentence-transformers) (2.4.0)\n",
            "Requirement already satisfied: certifi>=2017.4.17 in /usr/local/lib/python3.11/dist-packages (from requests->huggingface-hub>=0.20.0->sentence-transformers) (2025.4.26)\n"
          ]
        }
      ]
    },
    {
      "cell_type": "code",
      "source": [
        "encoder = SentenceTransformer(\"all-mpnet-base-v2\")\n",
        "vectors = encoder.encode(df.text)"
      ],
      "metadata": {
        "id": "ycQsEKekR6Ye"
      },
      "execution_count": null,
      "outputs": []
    },
    {
      "cell_type": "code",
      "source": [
        "vectors.shape"
      ],
      "metadata": {
        "colab": {
          "base_uri": "https://localhost:8080/"
        },
        "id": "5YfIuNmATQQ3",
        "outputId": "894fc52c-6483-434d-95c9-eb75f06a10ea"
      },
      "execution_count": null,
      "outputs": [
        {
          "output_type": "execute_result",
          "data": {
            "text/plain": [
              "(8, 768)"
            ]
          },
          "metadata": {},
          "execution_count": 13
        }
      ]
    },
    {
      "cell_type": "code",
      "source": [
        "dim = vectors.shape[1]\n",
        "dim"
      ],
      "metadata": {
        "colab": {
          "base_uri": "https://localhost:8080/"
        },
        "id": "LZQZLFy7TXJz",
        "outputId": "25c247ec-63c8-4939-dcd7-166e3c1bb4de"
      },
      "execution_count": null,
      "outputs": [
        {
          "output_type": "execute_result",
          "data": {
            "text/plain": [
              "768"
            ]
          },
          "metadata": {},
          "execution_count": 14
        }
      ]
    },
    {
      "cell_type": "markdown",
      "source": [
        "Build a FAISS Index for vectors"
      ],
      "metadata": {
        "id": "Ox7aeGaDWh4V"
      }
    },
    {
      "cell_type": "code",
      "source": [
        "import faiss\n",
        "\n",
        "index = faiss.IndexFlatL2(dim)"
      ],
      "metadata": {
        "id": "oXIMqi5qWeOQ"
      },
      "execution_count": null,
      "outputs": []
    },
    {
      "cell_type": "markdown",
      "source": [
        "Step 3 : Normalize the source vectors (as we are using L2 distance to measure similarity) and add to the index"
      ],
      "metadata": {
        "id": "tfnTmhSYWvCa"
      }
    },
    {
      "cell_type": "code",
      "source": [
        "index.add(vectors)"
      ],
      "metadata": {
        "id": "mVcP7J9DWnUS"
      },
      "execution_count": null,
      "outputs": []
    },
    {
      "cell_type": "code",
      "source": [
        "index"
      ],
      "metadata": {
        "colab": {
          "base_uri": "https://localhost:8080/"
        },
        "id": "Wg7reW_CW6Kd",
        "outputId": "4d043e02-a673-41c0-daf2-95e3c7aabb77"
      },
      "execution_count": null,
      "outputs": [
        {
          "output_type": "execute_result",
          "data": {
            "text/plain": [
              "<faiss.swigfaiss_avx2.IndexFlatL2; proxy of <Swig Object of type 'faiss::IndexFlatL2 *' at 0x7f6e6a3f8b70> >"
            ]
          },
          "metadata": {},
          "execution_count": 17
        }
      ]
    },
    {
      "cell_type": "markdown",
      "source": [
        "# Step 4 : Encode search text using same encorder and normalize the output vector"
      ],
      "metadata": {
        "id": "zU6fpdehXEOb"
      }
    },
    {
      "cell_type": "code",
      "source": [
        "search_query = \"I want to buy a polo t-shirt\"\n",
        "# search_query = \"looking for places to visit during the holidays\"\n",
        "# search_query = \"An apple a day keeps the doctor away\"\n",
        "vec = encoder.encode(search_query)\n",
        "vec.shape"
      ],
      "metadata": {
        "colab": {
          "base_uri": "https://localhost:8080/"
        },
        "id": "wdbYUdX4XGVZ",
        "outputId": "43aeb0c0-c114-4019-bd24-46580a10ffbe"
      },
      "execution_count": null,
      "outputs": [
        {
          "output_type": "execute_result",
          "data": {
            "text/plain": [
              "(768,)"
            ]
          },
          "metadata": {},
          "execution_count": 18
        }
      ]
    },
    {
      "cell_type": "code",
      "source": [
        "vec"
      ],
      "metadata": {
        "colab": {
          "base_uri": "https://localhost:8080/"
        },
        "id": "mCx4z-TIgisk",
        "outputId": "f889dfff-daac-4cf7-8db1-52ea922befc4"
      },
      "execution_count": null,
      "outputs": [
        {
          "output_type": "execute_result",
          "data": {
            "text/plain": [
              "array([[ 1.03882691e-02,  2.78686285e-02, -1.18618710e-02,\n",
              "         1.81327257e-02,  1.21984119e-03, -1.42995641e-02,\n",
              "         1.96229368e-02,  2.07198318e-02, -2.23660935e-02,\n",
              "         4.75626774e-02,  1.77976061e-02, -8.00333917e-03,\n",
              "         2.53419522e-02,  5.26148640e-02,  8.44942406e-03,\n",
              "        -1.63944215e-02,  1.02661494e-02, -2.74856109e-02,\n",
              "         8.37067291e-02, -1.52885355e-02,  1.67682748e-02,\n",
              "        -3.97142116e-03, -2.74348632e-02,  5.02091758e-02,\n",
              "        -8.36521294e-03, -4.74075824e-02,  2.36915816e-02,\n",
              "        -1.01186438e-02, -2.82840263e-02,  7.94265140e-03,\n",
              "         4.21436168e-02, -4.19375999e-03, -1.91232357e-02,\n",
              "        -3.12785394e-02,  1.24685050e-06, -1.04428437e-02,\n",
              "        -2.19971444e-02, -8.66928026e-02, -1.88494497e-03,\n",
              "        -2.54772231e-02, -9.72972624e-03,  7.93310255e-02,\n",
              "        -3.55963632e-02, -3.05383728e-04, -1.12392241e-02,\n",
              "        -3.88932489e-02,  5.49313761e-02,  1.35207981e-01,\n",
              "        -8.19147453e-02,  1.18785072e-02, -9.01845656e-03,\n",
              "         1.92544367e-02, -2.82723568e-02, -3.29266936e-02,\n",
              "        -2.20106654e-02, -4.29835916e-02,  3.70104685e-02,\n",
              "        -4.80649248e-02,  9.49257892e-03,  3.51585783e-02,\n",
              "         4.88772467e-02, -3.28933634e-02, -1.24120517e-02,\n",
              "        -1.64292939e-02,  3.93721089e-02,  2.69109719e-02,\n",
              "         6.15458935e-02, -4.14122455e-03,  1.75675526e-02,\n",
              "         1.53993415e-02,  9.60058253e-03, -5.69588272e-04,\n",
              "        -4.83582541e-02,  4.25832123e-02,  1.10986000e-02,\n",
              "        -4.66182418e-02, -2.10591801e-03, -5.81461154e-02,\n",
              "         1.40413018e-02,  1.00883860e-02, -2.44589858e-02,\n",
              "         1.42714167e-02, -2.10582279e-02,  7.38854259e-02,\n",
              "        -2.23948881e-02,  1.38753317e-02, -1.33594673e-03,\n",
              "         9.21318494e-03, -2.84222756e-02, -4.04207641e-03,\n",
              "        -1.71393286e-02, -8.46521184e-03, -2.83984020e-02,\n",
              "        -3.69299464e-02, -9.47201177e-02, -3.26580219e-02,\n",
              "         2.60049943e-02,  1.31179057e-02,  1.51670882e-02,\n",
              "        -2.12378916e-03,  1.48178022e-02,  1.37817143e-02,\n",
              "         1.25304116e-02, -5.01475437e-03,  3.56063135e-02,\n",
              "         5.93453869e-02, -5.03397435e-02, -9.55990888e-03,\n",
              "        -7.23668933e-02,  9.45845246e-03,  1.54202739e-02,\n",
              "        -7.03747384e-03, -3.10014673e-02, -8.86358973e-03,\n",
              "        -2.98000704e-02, -8.84007737e-02, -2.25058924e-02,\n",
              "        -3.25824358e-02,  4.78070490e-02,  2.14029476e-03,\n",
              "         1.37757114e-03, -1.25066238e-02, -1.15712602e-02,\n",
              "         2.34021824e-02,  3.43833375e-03,  2.69363020e-02,\n",
              "        -6.23307340e-02, -5.29254181e-03,  1.73163426e-03,\n",
              "         3.20439525e-02,  2.13081497e-04, -1.54123725e-02,\n",
              "         5.08342534e-02, -4.52312343e-02, -1.67428404e-02,\n",
              "        -3.47918682e-02, -4.16715406e-02, -2.34929174e-02,\n",
              "         2.40790378e-03, -2.15250961e-02,  3.07013094e-03,\n",
              "         2.54970901e-02,  3.60133126e-02,  2.68478002e-02,\n",
              "        -4.22386043e-02, -2.45388672e-02,  3.93797904e-02,\n",
              "         6.31313911e-03,  2.03843638e-02, -2.22934633e-02,\n",
              "        -7.87320361e-03, -1.47401327e-02,  4.87235710e-02,\n",
              "        -2.55933460e-02, -1.08921006e-02, -3.37022729e-02,\n",
              "         4.69094813e-02,  1.95821337e-02,  4.13407665e-03,\n",
              "         2.72842553e-02,  4.72949381e-04,  2.55070571e-02,\n",
              "        -5.26176244e-02,  3.57674658e-02, -5.46482019e-03,\n",
              "        -3.90752256e-02, -4.51455601e-02, -1.37631614e-02,\n",
              "         5.50721325e-02,  3.80344279e-02, -4.58984412e-02,\n",
              "         4.83393949e-03, -2.92574633e-02, -4.76555573e-03,\n",
              "         9.17753279e-02, -9.70400721e-02,  1.05631828e-01,\n",
              "        -5.64411059e-02, -6.33300915e-02,  3.45335677e-02,\n",
              "        -5.77132329e-02, -1.21777304e-01,  9.45342332e-03,\n",
              "         2.02731229e-02,  2.63032019e-02,  3.96902720e-03,\n",
              "        -3.88276428e-02, -1.57009140e-02, -3.47952247e-02,\n",
              "        -3.07988320e-02,  3.24620530e-02, -4.84479591e-02,\n",
              "         4.39476222e-03, -1.72206648e-02,  1.15609946e-04,\n",
              "        -3.72782461e-02, -5.17302640e-02, -1.91914346e-02,\n",
              "        -3.10722478e-02,  4.77237673e-03, -5.49006611e-02,\n",
              "        -1.40048675e-02,  2.99301576e-02,  9.23176333e-02,\n",
              "        -2.96304561e-02,  2.45515648e-02,  3.50713506e-02,\n",
              "        -5.64086949e-03,  1.57488920e-02,  2.08431389e-02,\n",
              "         5.11531830e-02,  7.25736795e-03,  4.40724753e-03,\n",
              "        -2.58072224e-02,  4.99892281e-03, -1.47747225e-03,\n",
              "        -4.42322390e-03,  4.48388010e-02,  7.79227763e-02,\n",
              "         1.65748168e-02, -3.80822718e-02,  3.76828201e-02,\n",
              "         1.02415688e-01, -1.61058977e-02,  7.32476562e-02,\n",
              "        -1.11488095e-02,  3.81629355e-02,  2.02278662e-02,\n",
              "        -1.23597020e-02,  2.38338504e-02, -2.99291853e-02,\n",
              "        -7.08033796e-03,  1.23009924e-02, -6.69545354e-03,\n",
              "        -6.65793270e-02,  6.94696680e-02,  1.02031687e-02,\n",
              "        -2.23913062e-02, -1.79656297e-02, -3.10913660e-02,\n",
              "        -3.04419808e-02, -2.43375860e-02,  2.62913741e-02,\n",
              "        -1.44890947e-02, -3.44526842e-02,  3.69894737e-03,\n",
              "         2.34961957e-02, -2.20465418e-02, -6.40620366e-02,\n",
              "        -3.29653509e-02, -1.13152396e-02,  4.46261205e-02,\n",
              "         2.82178428e-02, -1.32326679e-02, -2.48316620e-02,\n",
              "        -4.16193940e-02, -3.17104273e-02, -2.90311500e-03,\n",
              "        -2.58374214e-02, -2.38407645e-02,  4.09953259e-02,\n",
              "        -3.72038893e-02,  3.80427018e-02,  2.60184593e-02,\n",
              "         3.78452465e-02, -1.22930016e-02, -1.78747177e-02,\n",
              "         2.22685281e-02, -1.39293596e-02,  3.33373179e-03,\n",
              "        -1.01043331e-02, -9.42679122e-02,  2.93327998e-02,\n",
              "        -2.11534109e-02, -8.28086492e-03,  9.39183310e-03,\n",
              "         7.01195449e-02, -2.47648284e-02, -7.45414244e-03,\n",
              "         1.81595366e-02,  2.10114084e-02,  5.30432425e-02,\n",
              "        -1.83114391e-02,  2.45678425e-02,  1.81325860e-02,\n",
              "        -1.36736473e-02, -2.25673313e-03,  2.27259807e-02,\n",
              "        -1.32561503e-02,  5.31734601e-02,  2.84622260e-03,\n",
              "        -1.26052350e-02,  5.37055396e-02, -2.62218006e-02,\n",
              "         6.28262013e-02, -3.38792838e-02,  1.24346400e-02,\n",
              "         3.83224292e-03,  2.31522676e-02, -7.25013316e-02,\n",
              "        -4.14393609e-03, -4.29395810e-02, -9.25686676e-03,\n",
              "        -1.02920001e-02, -2.94399969e-02, -1.51161794e-02,\n",
              "         1.03488928e-02, -8.83047096e-03,  7.79079879e-03,\n",
              "         6.15880676e-02, -2.56217923e-02,  2.67890431e-02,\n",
              "        -3.48654948e-02, -3.35104279e-02,  4.58869450e-02,\n",
              "         2.87142433e-02, -1.73843279e-02,  9.46802422e-02,\n",
              "        -2.42618304e-02,  2.83706822e-02,  5.47284912e-03,\n",
              "        -3.05396430e-02, -2.04882436e-02,  1.14951078e-02,\n",
              "        -2.06157006e-02, -4.73047122e-02, -5.66246745e-04,\n",
              "         2.54014116e-02, -4.44826037e-02, -3.05528753e-02,\n",
              "        -2.27482170e-02,  5.34625445e-03, -1.77380387e-02,\n",
              "         8.93085916e-03,  6.29965495e-03, -4.71266806e-02,\n",
              "         9.71080363e-03, -1.98281463e-02, -1.95309147e-02,\n",
              "         2.61490308e-02,  2.61223246e-03, -2.84732506e-02,\n",
              "        -8.45033862e-03, -6.73168004e-02, -8.53152573e-02,\n",
              "        -3.01742628e-02,  3.68127003e-02,  2.59252582e-02,\n",
              "        -6.74630255e-02, -5.72894476e-02, -1.90711040e-02,\n",
              "        -2.98832655e-02, -1.49018681e-02, -6.44187583e-03,\n",
              "        -1.42151807e-02,  3.73985805e-02,  1.12890743e-03,\n",
              "         2.28629522e-02, -4.47167754e-02,  2.30516475e-02,\n",
              "         6.28957001e-04,  4.42759059e-02,  2.46650148e-02,\n",
              "         3.51332538e-02, -3.61626148e-02, -4.75540422e-02,\n",
              "         1.82497725e-02,  3.07629779e-02,  1.00456458e-03,\n",
              "        -1.84898656e-02, -2.19365447e-05,  7.50036165e-02,\n",
              "         3.62004414e-02,  6.58765063e-02, -1.86647289e-02,\n",
              "         4.20117006e-02, -2.29520816e-03,  6.42548054e-02,\n",
              "         5.11614531e-02, -1.55825689e-02, -7.13906717e-04,\n",
              "         3.42612937e-02, -6.07561227e-03,  2.43100096e-02,\n",
              "        -1.24312835e-02, -4.36682999e-02,  2.47560292e-02,\n",
              "        -3.65800038e-02,  2.03333907e-02, -3.50793153e-02,\n",
              "         1.50017273e-02,  7.63921514e-02,  6.04431331e-02,\n",
              "         6.65943921e-02,  3.30557930e-03,  3.46694440e-02,\n",
              "        -1.60531083e-03, -2.37293225e-02,  9.55966301e-03,\n",
              "        -8.56768619e-03, -1.43413777e-02,  9.41571444e-02,\n",
              "         3.45746912e-02,  7.35701248e-02,  2.54632197e-02,\n",
              "        -3.96389663e-02,  2.52091214e-02,  7.53591806e-02,\n",
              "        -3.82415466e-02, -3.73829231e-02, -5.41513376e-02,\n",
              "         2.40689144e-02, -3.08086872e-02, -6.20017666e-03,\n",
              "        -7.64316414e-03, -3.59188356e-02,  1.13590644e-03,\n",
              "        -4.66337288e-03,  2.37280075e-02, -4.54728641e-02,\n",
              "        -1.95232360e-03,  1.30089652e-02, -4.03874852e-02,\n",
              "         3.14237401e-02,  3.25081423e-02,  2.98243649e-02,\n",
              "        -7.06249848e-04, -8.04493353e-02, -1.45465778e-02,\n",
              "        -1.17486315e-02, -3.25348228e-02,  3.16704623e-02,\n",
              "        -4.22670208e-02,  6.71451390e-02, -1.01962581e-01,\n",
              "        -3.84004414e-02, -1.90569460e-02,  5.59221022e-02,\n",
              "         7.67455017e-03,  5.18109836e-02,  1.68128796e-02,\n",
              "        -1.31116360e-02,  2.82035349e-03,  1.55517901e-03,\n",
              "        -5.03696734e-04, -3.61106060e-02, -6.84429659e-03,\n",
              "         1.76924113e-02, -2.98450049e-02, -4.57745381e-02,\n",
              "         1.10833878e-02, -1.51629746e-02,  3.66879231e-03,\n",
              "         8.08090419e-02, -1.80434845e-02, -1.02004060e-03,\n",
              "        -4.84685937e-04,  3.22402902e-02, -1.65944472e-02,\n",
              "         1.84554583e-03,  5.07567413e-02,  1.58889554e-02,\n",
              "        -6.26498014e-02, -1.95618644e-02,  4.34029624e-02,\n",
              "        -5.68293072e-02,  1.05988346e-01, -4.80109155e-02,\n",
              "         1.00578098e-02,  2.19856035e-02, -3.14385779e-02,\n",
              "         1.16583453e-02,  3.97340804e-02, -1.13186799e-02,\n",
              "         5.83116822e-02,  2.77368701e-03,  6.33229017e-02,\n",
              "         4.29549292e-02,  2.16282960e-02,  3.85455899e-02,\n",
              "        -2.44158600e-02,  1.34006571e-02,  2.94844620e-03,\n",
              "         7.02530053e-03, -1.87546369e-02,  4.76556420e-02,\n",
              "         6.15999922e-02,  1.85416304e-02, -1.38640413e-02,\n",
              "        -4.43654060e-02, -2.19828524e-02,  1.19858226e-02,\n",
              "        -3.77185121e-02, -6.42945394e-02, -2.67555602e-02,\n",
              "         5.12968563e-02,  2.78438460e-02, -6.28402382e-02,\n",
              "        -3.17041092e-02,  2.21165456e-02, -1.41522791e-02,\n",
              "        -6.07151585e-03,  7.16668069e-02,  1.14130257e-02,\n",
              "         3.74975335e-03, -6.88136220e-02,  4.47597578e-02,\n",
              "        -3.12533192e-02,  1.41535681e-02, -3.08248587e-02,\n",
              "        -7.57703034e-04, -5.60959196e-03,  4.05325145e-02,\n",
              "         5.67561132e-04,  1.03435591e-02,  8.89484882e-02,\n",
              "        -8.93703476e-03, -6.23021163e-02,  2.01754700e-02,\n",
              "        -1.27847195e-02,  1.61152259e-02, -1.23151019e-02,\n",
              "         2.49236263e-02,  2.02201903e-02, -2.01466382e-02,\n",
              "         4.14760113e-02, -2.72540469e-02, -3.96626405e-02,\n",
              "        -2.26231758e-02,  1.40828069e-03,  1.52835315e-02,\n",
              "        -6.26359060e-02,  6.85891658e-02,  2.12807134e-02,\n",
              "        -4.11787182e-02,  7.12970197e-02, -2.85411738e-02,\n",
              "        -1.06836651e-02, -1.89546514e-02,  1.78564172e-02,\n",
              "        -3.75272110e-02,  6.14918070e-04,  4.38691080e-02,\n",
              "         1.56059563e-02,  3.15992371e-03,  5.58515964e-03,\n",
              "        -5.97158028e-03,  2.85605397e-02, -9.22783278e-03,\n",
              "         9.27611068e-03,  2.80324835e-02,  6.93221316e-02,\n",
              "        -3.44455279e-02, -2.25160290e-02,  2.57092062e-02,\n",
              "        -4.39213730e-33, -3.64305452e-02, -2.59273336e-03,\n",
              "         9.11504775e-03,  3.95197384e-02,  1.37440050e-02,\n",
              "         3.83440987e-03,  2.09220592e-03, -6.76697074e-03,\n",
              "         1.25045814e-02, -1.33823799e-02, -1.84265955e-03,\n",
              "         1.20098041e-02,  1.55763635e-02,  7.08836131e-04,\n",
              "         7.13026896e-02, -5.37558943e-02,  2.44811513e-02,\n",
              "        -4.40049656e-02, -1.36816707e-02, -1.33414501e-02,\n",
              "        -2.93123070e-02, -1.21151423e-02,  6.02591559e-02,\n",
              "         1.02625899e-02,  3.59789990e-02, -3.84313762e-02,\n",
              "         2.23757252e-02,  1.09116239e-02,  6.93021864e-02,\n",
              "         1.61974728e-02, -3.05023920e-02,  4.06713262e-02,\n",
              "        -3.92037369e-02, -3.48172300e-02,  4.40173224e-02,\n",
              "         2.78183036e-02, -5.45113534e-03, -2.34862641e-02,\n",
              "         9.80811380e-03,  2.96252910e-02,  4.15044837e-02,\n",
              "        -8.76813978e-02, -8.35824162e-02, -2.17031930e-02,\n",
              "        -3.72131653e-02, -8.14556610e-03, -1.64230764e-02,\n",
              "        -3.21030943e-03,  7.74316723e-03, -4.88729924e-02,\n",
              "        -3.05721373e-03, -2.07577702e-02,  1.43916635e-02,\n",
              "        -2.15989314e-02,  5.19237332e-02,  3.22398394e-02,\n",
              "         2.97001842e-02,  6.64230585e-02,  3.49241979e-02,\n",
              "         6.32981583e-02,  2.76506450e-02, -6.43676519e-02,\n",
              "        -1.97427161e-02, -6.66220039e-02, -2.80176159e-02,\n",
              "        -2.66223829e-02, -1.15307849e-02, -2.93885963e-03,\n",
              "         2.88166497e-02, -3.48907150e-02,  1.28499428e-02,\n",
              "         2.38518268e-02, -2.04859450e-02,  3.24630253e-02,\n",
              "         2.07587127e-02,  3.60320583e-02,  1.18891997e-02,\n",
              "         2.08263025e-02,  5.34499772e-02,  3.98998260e-02,\n",
              "         1.93192333e-03,  4.08157334e-02,  1.73660871e-02,\n",
              "         1.62020531e-02, -3.99374329e-02, -5.42060249e-02,\n",
              "        -9.92145296e-03, -2.20064092e-02,  2.27758158e-02,\n",
              "        -3.69535154e-03, -5.12674823e-02, -3.43792327e-02,\n",
              "         2.70802993e-02,  6.55443268e-03, -8.59292001e-02,\n",
              "        -6.78600073e-02, -6.93692919e-03,  1.56281237e-02,\n",
              "        -6.14048215e-03,  1.97633859e-02, -2.56496519e-02,\n",
              "        -8.55880324e-03, -6.69195922e-03, -1.37871420e-02,\n",
              "        -1.60989650e-02, -6.38104556e-03,  4.70548905e-02,\n",
              "        -3.73780611e-03, -2.61347685e-02,  9.47324268e-04,\n",
              "         5.62972622e-03, -4.70339209e-02, -2.40904242e-02,\n",
              "        -1.03060208e-01,  3.95706110e-02,  1.86298043e-02,\n",
              "         1.22608179e-02, -2.66108401e-02,  8.73115472e-03,\n",
              "        -1.45035516e-02, -2.18206216e-02, -5.02304770e-02,\n",
              "        -1.87203437e-02, -1.50403064e-02, -3.63761280e-03,\n",
              "         1.26317823e-02,  3.22695412e-02,  2.52542216e-02,\n",
              "        -2.95263678e-02, -1.22713046e-02, -1.14217792e-02,\n",
              "        -9.44962911e-03,  1.85265691e-07, -3.20790373e-02,\n",
              "         2.90722027e-02,  1.50097441e-02,  4.58585992e-02,\n",
              "        -4.58980389e-02,  8.51313695e-02,  1.87605862e-02,\n",
              "        -7.52922613e-03, -9.47736017e-03,  2.20605433e-02,\n",
              "        -1.64591912e-02,  1.37806190e-02, -5.93537092e-03,\n",
              "         1.98825486e-02, -1.72281619e-02, -5.15167788e-02,\n",
              "         7.51994550e-02, -2.18111742e-02,  1.31364832e-05,\n",
              "        -4.08613496e-02, -2.18479224e-02,  7.75562301e-02,\n",
              "         6.59543723e-02,  3.45364474e-02,  6.32863585e-03,\n",
              "        -3.45287398e-02,  2.41718385e-02, -5.22142164e-02,\n",
              "        -4.00036294e-03, -4.70077060e-02, -7.21946266e-03,\n",
              "        -6.05984777e-02, -4.96256212e-03, -1.06797311e-02,\n",
              "         3.90087664e-02, -4.15890478e-03,  5.15687466e-02,\n",
              "         1.44929290e-02,  8.72998312e-03,  5.83561845e-02,\n",
              "        -4.20899875e-02, -3.73952417e-03, -4.08154465e-02,\n",
              "        -3.81656736e-02,  2.13405606e-03,  3.52092111e-03,\n",
              "        -6.06538774e-03, -2.75366884e-02, -1.17570246e-02,\n",
              "        -2.33171927e-03,  2.78418865e-02, -2.67389081e-02,\n",
              "         2.94055492e-02, -3.15133817e-02, -4.89010056e-03,\n",
              "        -3.41912685e-03,  4.42338362e-02,  1.56635735e-02,\n",
              "         1.01597551e-02, -8.11970159e-02, -8.74566285e-06,\n",
              "         4.35416773e-02, -3.40956845e-03,  1.32463679e-01,\n",
              "        -5.27368374e-02,  4.36557382e-02,  3.99109647e-02,\n",
              "         6.80548322e-35,  2.35433616e-02, -4.56788763e-02,\n",
              "        -3.64246927e-02,  3.97049785e-02, -2.14084312e-02,\n",
              "        -1.54701434e-03,  9.18157920e-02, -7.23868608e-03,\n",
              "         7.68457167e-03,  2.62084659e-02, -2.25905329e-03]], dtype=float32)"
            ]
          },
          "metadata": {},
          "execution_count": 30
        }
      ]
    },
    {
      "cell_type": "code",
      "source": [
        "import numpy as np\n",
        "vec = np.expand_dims(vec, axis=0)\n",
        "print(vec.shape)"
      ],
      "metadata": {
        "colab": {
          "base_uri": "https://localhost:8080/"
        },
        "id": "VCxJ3vIjYfAm",
        "outputId": "41d1da0e-5c33-431a-d72f-fc0aeed2e453"
      },
      "execution_count": null,
      "outputs": [
        {
          "output_type": "stream",
          "name": "stdout",
          "text": [
            "(1, 768)\n"
          ]
        }
      ]
    },
    {
      "cell_type": "code",
      "source": [
        "# faiss.normalize_L2(svec)"
      ],
      "metadata": {
        "id": "2tpniibjXNhJ"
      },
      "execution_count": null,
      "outputs": []
    },
    {
      "cell_type": "markdown",
      "source": [
        "Step 5: Search for similar vector in the FAISS index created"
      ],
      "metadata": {
        "id": "vf_npul1Xd7w"
      }
    },
    {
      "cell_type": "code",
      "source": [
        "distances, I = index.search(vec, k=2)\n",
        "distances"
      ],
      "metadata": {
        "colab": {
          "base_uri": "https://localhost:8080/"
        },
        "id": "SfqbI5GRXUhM",
        "outputId": "6977015e-f74e-4f16-ecdc-11493fc19533"
      },
      "execution_count": null,
      "outputs": [
        {
          "output_type": "execute_result",
          "data": {
            "text/plain": [
              "array([[1.3844836, 1.4039097]], dtype=float32)"
            ]
          },
          "metadata": {},
          "execution_count": 23
        }
      ]
    },
    {
      "cell_type": "code",
      "source": [
        "I"
      ],
      "metadata": {
        "colab": {
          "base_uri": "https://localhost:8080/"
        },
        "id": "xme5FZ37Ypbc",
        "outputId": "11425315-4181-4edf-e27b-9b21c2314b38"
      },
      "execution_count": null,
      "outputs": [
        {
          "output_type": "execute_result",
          "data": {
            "text/plain": [
              "array([[3, 2]])"
            ]
          },
          "metadata": {},
          "execution_count": 24
        }
      ]
    },
    {
      "cell_type": "code",
      "source": [
        "I.tolist()"
      ],
      "metadata": {
        "colab": {
          "base_uri": "https://localhost:8080/"
        },
        "id": "gpySAlJOYuL1",
        "outputId": "0e365365-1510-493c-ea19-a86d32799d07"
      },
      "execution_count": null,
      "outputs": [
        {
          "output_type": "execute_result",
          "data": {
            "text/plain": [
              "[[3, 2]]"
            ]
          },
          "metadata": {},
          "execution_count": 26
        }
      ]
    },
    {
      "cell_type": "code",
      "source": [
        "row_indices = I.tolist()[0]\n",
        "row_indices"
      ],
      "metadata": {
        "colab": {
          "base_uri": "https://localhost:8080/"
        },
        "id": "9-_FjFImY0h9",
        "outputId": "882c8c72-3e44-448d-a84c-e03fa025fadf"
      },
      "execution_count": null,
      "outputs": [
        {
          "output_type": "execute_result",
          "data": {
            "text/plain": [
              "[3, 2]"
            ]
          },
          "metadata": {},
          "execution_count": 27
        }
      ]
    },
    {
      "cell_type": "code",
      "source": [
        "df.loc[row_indices]"
      ],
      "metadata": {
        "colab": {
          "base_uri": "https://localhost:8080/",
          "height": 112
        },
        "id": "h81ernPKY6NM",
        "outputId": "96ad9f05-9ab8-420a-fa6b-20e16a08c143"
      },
      "execution_count": null,
      "outputs": [
        {
          "output_type": "execute_result",
          "data": {
            "text/plain": [
              "                                                text category\n",
              "3  Vibrant color jeans for male are becoming a trend  Fashion\n",
              "2  These are the latest fashion trends for this week  Fashion"
            ],
            "text/html": [
              "\n",
              "  <div id=\"df-179c8c94-c329-4652-b805-60ccf3b95971\" class=\"colab-df-container\">\n",
              "    <div>\n",
              "<style scoped>\n",
              "    .dataframe tbody tr th:only-of-type {\n",
              "        vertical-align: middle;\n",
              "    }\n",
              "\n",
              "    .dataframe tbody tr th {\n",
              "        vertical-align: top;\n",
              "    }\n",
              "\n",
              "    .dataframe thead th {\n",
              "        text-align: right;\n",
              "    }\n",
              "</style>\n",
              "<table border=\"1\" class=\"dataframe\">\n",
              "  <thead>\n",
              "    <tr style=\"text-align: right;\">\n",
              "      <th></th>\n",
              "      <th>text</th>\n",
              "      <th>category</th>\n",
              "    </tr>\n",
              "  </thead>\n",
              "  <tbody>\n",
              "    <tr>\n",
              "      <th>3</th>\n",
              "      <td>Vibrant color jeans for male are becoming a trend</td>\n",
              "      <td>Fashion</td>\n",
              "    </tr>\n",
              "    <tr>\n",
              "      <th>2</th>\n",
              "      <td>These are the latest fashion trends for this week</td>\n",
              "      <td>Fashion</td>\n",
              "    </tr>\n",
              "  </tbody>\n",
              "</table>\n",
              "</div>\n",
              "    <div class=\"colab-df-buttons\">\n",
              "\n",
              "  <div class=\"colab-df-container\">\n",
              "    <button class=\"colab-df-convert\" onclick=\"convertToInteractive('df-179c8c94-c329-4652-b805-60ccf3b95971')\"\n",
              "            title=\"Convert this dataframe to an interactive table.\"\n",
              "            style=\"display:none;\">\n",
              "\n",
              "  <svg xmlns=\"http://www.w3.org/2000/svg\" height=\"24px\" viewBox=\"0 -960 960 960\">\n",
              "    <path d=\"M120-120v-720h720v720H120Zm60-500h600v-160H180v160Zm220 220h160v-160H400v160Zm0 220h160v-160H400v160ZM180-400h160v-160H180v160Zm440 0h160v-160H620v160ZM180-180h160v-160H180v160Zm440 0h160v-160H620v160Z\"/>\n",
              "  </svg>\n",
              "    </button>\n",
              "\n",
              "  <style>\n",
              "    .colab-df-container {\n",
              "      display:flex;\n",
              "      gap: 12px;\n",
              "    }\n",
              "\n",
              "    .colab-df-convert {\n",
              "      background-color: #E8F0FE;\n",
              "      border: none;\n",
              "      border-radius: 50%;\n",
              "      cursor: pointer;\n",
              "      display: none;\n",
              "      fill: #1967D2;\n",
              "      height: 32px;\n",
              "      padding: 0 0 0 0;\n",
              "      width: 32px;\n",
              "    }\n",
              "\n",
              "    .colab-df-convert:hover {\n",
              "      background-color: #E2EBFA;\n",
              "      box-shadow: 0px 1px 2px rgba(60, 64, 67, 0.3), 0px 1px 3px 1px rgba(60, 64, 67, 0.15);\n",
              "      fill: #174EA6;\n",
              "    }\n",
              "\n",
              "    .colab-df-buttons div {\n",
              "      margin-bottom: 4px;\n",
              "    }\n",
              "\n",
              "    [theme=dark] .colab-df-convert {\n",
              "      background-color: #3B4455;\n",
              "      fill: #D2E3FC;\n",
              "    }\n",
              "\n",
              "    [theme=dark] .colab-df-convert:hover {\n",
              "      background-color: #434B5C;\n",
              "      box-shadow: 0px 1px 3px 1px rgba(0, 0, 0, 0.15);\n",
              "      filter: drop-shadow(0px 1px 2px rgba(0, 0, 0, 0.3));\n",
              "      fill: #FFFFFF;\n",
              "    }\n",
              "  </style>\n",
              "\n",
              "    <script>\n",
              "      const buttonEl =\n",
              "        document.querySelector('#df-179c8c94-c329-4652-b805-60ccf3b95971 button.colab-df-convert');\n",
              "      buttonEl.style.display =\n",
              "        google.colab.kernel.accessAllowed ? 'block' : 'none';\n",
              "\n",
              "      async function convertToInteractive(key) {\n",
              "        const element = document.querySelector('#df-179c8c94-c329-4652-b805-60ccf3b95971');\n",
              "        const dataTable =\n",
              "          await google.colab.kernel.invokeFunction('convertToInteractive',\n",
              "                                                    [key], {});\n",
              "        if (!dataTable) return;\n",
              "\n",
              "        const docLinkHtml = 'Like what you see? Visit the ' +\n",
              "          '<a target=\"_blank\" href=https://colab.research.google.com/notebooks/data_table.ipynb>data table notebook</a>'\n",
              "          + ' to learn more about interactive tables.';\n",
              "        element.innerHTML = '';\n",
              "        dataTable['output_type'] = 'display_data';\n",
              "        await google.colab.output.renderOutput(dataTable, element);\n",
              "        const docLink = document.createElement('div');\n",
              "        docLink.innerHTML = docLinkHtml;\n",
              "        element.appendChild(docLink);\n",
              "      }\n",
              "    </script>\n",
              "  </div>\n",
              "\n",
              "\n",
              "    <div id=\"df-ecdc0240-ece0-4517-8315-0d141d540330\">\n",
              "      <button class=\"colab-df-quickchart\" onclick=\"quickchart('df-ecdc0240-ece0-4517-8315-0d141d540330')\"\n",
              "                title=\"Suggest charts\"\n",
              "                style=\"display:none;\">\n",
              "\n",
              "<svg xmlns=\"http://www.w3.org/2000/svg\" height=\"24px\"viewBox=\"0 0 24 24\"\n",
              "     width=\"24px\">\n",
              "    <g>\n",
              "        <path d=\"M19 3H5c-1.1 0-2 .9-2 2v14c0 1.1.9 2 2 2h14c1.1 0 2-.9 2-2V5c0-1.1-.9-2-2-2zM9 17H7v-7h2v7zm4 0h-2V7h2v10zm4 0h-2v-4h2v4z\"/>\n",
              "    </g>\n",
              "</svg>\n",
              "      </button>\n",
              "\n",
              "<style>\n",
              "  .colab-df-quickchart {\n",
              "      --bg-color: #E8F0FE;\n",
              "      --fill-color: #1967D2;\n",
              "      --hover-bg-color: #E2EBFA;\n",
              "      --hover-fill-color: #174EA6;\n",
              "      --disabled-fill-color: #AAA;\n",
              "      --disabled-bg-color: #DDD;\n",
              "  }\n",
              "\n",
              "  [theme=dark] .colab-df-quickchart {\n",
              "      --bg-color: #3B4455;\n",
              "      --fill-color: #D2E3FC;\n",
              "      --hover-bg-color: #434B5C;\n",
              "      --hover-fill-color: #FFFFFF;\n",
              "      --disabled-bg-color: #3B4455;\n",
              "      --disabled-fill-color: #666;\n",
              "  }\n",
              "\n",
              "  .colab-df-quickchart {\n",
              "    background-color: var(--bg-color);\n",
              "    border: none;\n",
              "    border-radius: 50%;\n",
              "    cursor: pointer;\n",
              "    display: none;\n",
              "    fill: var(--fill-color);\n",
              "    height: 32px;\n",
              "    padding: 0;\n",
              "    width: 32px;\n",
              "  }\n",
              "\n",
              "  .colab-df-quickchart:hover {\n",
              "    background-color: var(--hover-bg-color);\n",
              "    box-shadow: 0 1px 2px rgba(60, 64, 67, 0.3), 0 1px 3px 1px rgba(60, 64, 67, 0.15);\n",
              "    fill: var(--button-hover-fill-color);\n",
              "  }\n",
              "\n",
              "  .colab-df-quickchart-complete:disabled,\n",
              "  .colab-df-quickchart-complete:disabled:hover {\n",
              "    background-color: var(--disabled-bg-color);\n",
              "    fill: var(--disabled-fill-color);\n",
              "    box-shadow: none;\n",
              "  }\n",
              "\n",
              "  .colab-df-spinner {\n",
              "    border: 2px solid var(--fill-color);\n",
              "    border-color: transparent;\n",
              "    border-bottom-color: var(--fill-color);\n",
              "    animation:\n",
              "      spin 1s steps(1) infinite;\n",
              "  }\n",
              "\n",
              "  @keyframes spin {\n",
              "    0% {\n",
              "      border-color: transparent;\n",
              "      border-bottom-color: var(--fill-color);\n",
              "      border-left-color: var(--fill-color);\n",
              "    }\n",
              "    20% {\n",
              "      border-color: transparent;\n",
              "      border-left-color: var(--fill-color);\n",
              "      border-top-color: var(--fill-color);\n",
              "    }\n",
              "    30% {\n",
              "      border-color: transparent;\n",
              "      border-left-color: var(--fill-color);\n",
              "      border-top-color: var(--fill-color);\n",
              "      border-right-color: var(--fill-color);\n",
              "    }\n",
              "    40% {\n",
              "      border-color: transparent;\n",
              "      border-right-color: var(--fill-color);\n",
              "      border-top-color: var(--fill-color);\n",
              "    }\n",
              "    60% {\n",
              "      border-color: transparent;\n",
              "      border-right-color: var(--fill-color);\n",
              "    }\n",
              "    80% {\n",
              "      border-color: transparent;\n",
              "      border-right-color: var(--fill-color);\n",
              "      border-bottom-color: var(--fill-color);\n",
              "    }\n",
              "    90% {\n",
              "      border-color: transparent;\n",
              "      border-bottom-color: var(--fill-color);\n",
              "    }\n",
              "  }\n",
              "</style>\n",
              "\n",
              "      <script>\n",
              "        async function quickchart(key) {\n",
              "          const quickchartButtonEl =\n",
              "            document.querySelector('#' + key + ' button');\n",
              "          quickchartButtonEl.disabled = true;  // To prevent multiple clicks.\n",
              "          quickchartButtonEl.classList.add('colab-df-spinner');\n",
              "          try {\n",
              "            const charts = await google.colab.kernel.invokeFunction(\n",
              "                'suggestCharts', [key], {});\n",
              "          } catch (error) {\n",
              "            console.error('Error during call to suggestCharts:', error);\n",
              "          }\n",
              "          quickchartButtonEl.classList.remove('colab-df-spinner');\n",
              "          quickchartButtonEl.classList.add('colab-df-quickchart-complete');\n",
              "        }\n",
              "        (() => {\n",
              "          let quickchartButtonEl =\n",
              "            document.querySelector('#df-ecdc0240-ece0-4517-8315-0d141d540330 button');\n",
              "          quickchartButtonEl.style.display =\n",
              "            google.colab.kernel.accessAllowed ? 'block' : 'none';\n",
              "        })();\n",
              "      </script>\n",
              "    </div>\n",
              "\n",
              "    </div>\n",
              "  </div>\n"
            ],
            "application/vnd.google.colaboratory.intrinsic+json": {
              "type": "dataframe",
              "summary": "{\n  \"name\": \"df\",\n  \"rows\": 2,\n  \"fields\": [\n    {\n      \"column\": \"text\",\n      \"properties\": {\n        \"dtype\": \"string\",\n        \"num_unique_values\": 2,\n        \"samples\": [\n          \"These are the latest fashion trends for this week\",\n          \"Vibrant color jeans for male are becoming a trend\"\n        ],\n        \"semantic_type\": \"\",\n        \"description\": \"\"\n      }\n    },\n    {\n      \"column\": \"category\",\n      \"properties\": {\n        \"dtype\": \"string\",\n        \"num_unique_values\": 1,\n        \"samples\": [\n          \"Fashion\"\n        ],\n        \"semantic_type\": \"\",\n        \"description\": \"\"\n      }\n    }\n  ]\n}"
            }
          },
          "metadata": {},
          "execution_count": 28
        }
      ]
    },
    {
      "cell_type": "code",
      "source": [
        "search_query"
      ],
      "metadata": {
        "colab": {
          "base_uri": "https://localhost:8080/",
          "height": 36
        },
        "id": "h1SwPAGPY8SQ",
        "outputId": "75754442-f55d-4524-8085-e7050994dff1"
      },
      "execution_count": null,
      "outputs": [
        {
          "output_type": "execute_result",
          "data": {
            "text/plain": [
              "'I want to buy a polo t-shirt'"
            ],
            "application/vnd.google.colaboratory.intrinsic+json": {
              "type": "string"
            }
          },
          "metadata": {},
          "execution_count": 29
        }
      ]
    }
  ]
}