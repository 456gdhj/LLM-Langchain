{
  "nbformat": 4,
  "nbformat_minor": 0,
  "metadata": {
    "colab": {
      "provenance": []
    },
    "kernelspec": {
      "name": "python3",
      "display_name": "Python 3"
    },
    "language_info": {
      "name": "python"
    }
  },
  "cells": [
    {
      "cell_type": "code",
      "source": [
        "!pip install cohere\n"
      ],
      "metadata": {
        "colab": {
          "base_uri": "https://localhost:8080/"
        },
        "id": "w07Ul51G53Z2",
        "outputId": "8af13510-ac9c-483a-eef4-da82a94bcc8a",
        "collapsed": true
      },
      "execution_count": null,
      "outputs": [
        {
          "output_type": "stream",
          "name": "stdout",
          "text": [
            "Requirement already satisfied: cohere in /usr/local/lib/python3.11/dist-packages (5.15.0)\n",
            "Requirement already satisfied: fastavro<2.0.0,>=1.9.4 in /usr/local/lib/python3.11/dist-packages (from cohere) (1.11.1)\n",
            "Requirement already satisfied: httpx>=0.21.2 in /usr/local/lib/python3.11/dist-packages (from cohere) (0.28.1)\n",
            "Requirement already satisfied: httpx-sse==0.4.0 in /usr/local/lib/python3.11/dist-packages (from cohere) (0.4.0)\n",
            "Requirement already satisfied: pydantic>=1.9.2 in /usr/local/lib/python3.11/dist-packages (from cohere) (2.11.7)\n",
            "Requirement already satisfied: pydantic-core<3.0.0,>=2.18.2 in /usr/local/lib/python3.11/dist-packages (from cohere) (2.33.2)\n",
            "Requirement already satisfied: requests<3.0.0,>=2.0.0 in /usr/local/lib/python3.11/dist-packages (from cohere) (2.32.3)\n",
            "Requirement already satisfied: tokenizers<1,>=0.15 in /usr/local/lib/python3.11/dist-packages (from cohere) (0.21.2)\n",
            "Requirement already satisfied: types-requests<3.0.0,>=2.0.0 in /usr/local/lib/python3.11/dist-packages (from cohere) (2.32.4.20250611)\n",
            "Requirement already satisfied: typing_extensions>=4.0.0 in /usr/local/lib/python3.11/dist-packages (from cohere) (4.14.0)\n",
            "Requirement already satisfied: anyio in /usr/local/lib/python3.11/dist-packages (from httpx>=0.21.2->cohere) (4.9.0)\n",
            "Requirement already satisfied: certifi in /usr/local/lib/python3.11/dist-packages (from httpx>=0.21.2->cohere) (2025.6.15)\n",
            "Requirement already satisfied: httpcore==1.* in /usr/local/lib/python3.11/dist-packages (from httpx>=0.21.2->cohere) (1.0.9)\n",
            "Requirement already satisfied: idna in /usr/local/lib/python3.11/dist-packages (from httpx>=0.21.2->cohere) (3.10)\n",
            "Requirement already satisfied: h11>=0.16 in /usr/local/lib/python3.11/dist-packages (from httpcore==1.*->httpx>=0.21.2->cohere) (0.16.0)\n",
            "Requirement already satisfied: annotated-types>=0.6.0 in /usr/local/lib/python3.11/dist-packages (from pydantic>=1.9.2->cohere) (0.7.0)\n",
            "Requirement already satisfied: typing-inspection>=0.4.0 in /usr/local/lib/python3.11/dist-packages (from pydantic>=1.9.2->cohere) (0.4.1)\n",
            "Requirement already satisfied: charset-normalizer<4,>=2 in /usr/local/lib/python3.11/dist-packages (from requests<3.0.0,>=2.0.0->cohere) (3.4.2)\n",
            "Requirement already satisfied: urllib3<3,>=1.21.1 in /usr/local/lib/python3.11/dist-packages (from requests<3.0.0,>=2.0.0->cohere) (2.4.0)\n",
            "Requirement already satisfied: huggingface-hub<1.0,>=0.16.4 in /usr/local/lib/python3.11/dist-packages (from tokenizers<1,>=0.15->cohere) (0.33.1)\n",
            "Requirement already satisfied: filelock in /usr/local/lib/python3.11/dist-packages (from huggingface-hub<1.0,>=0.16.4->tokenizers<1,>=0.15->cohere) (3.18.0)\n",
            "Requirement already satisfied: fsspec>=2023.5.0 in /usr/local/lib/python3.11/dist-packages (from huggingface-hub<1.0,>=0.16.4->tokenizers<1,>=0.15->cohere) (2025.3.2)\n",
            "Requirement already satisfied: packaging>=20.9 in /usr/local/lib/python3.11/dist-packages (from huggingface-hub<1.0,>=0.16.4->tokenizers<1,>=0.15->cohere) (24.2)\n",
            "Requirement already satisfied: pyyaml>=5.1 in /usr/local/lib/python3.11/dist-packages (from huggingface-hub<1.0,>=0.16.4->tokenizers<1,>=0.15->cohere) (6.0.2)\n",
            "Requirement already satisfied: tqdm>=4.42.1 in /usr/local/lib/python3.11/dist-packages (from huggingface-hub<1.0,>=0.16.4->tokenizers<1,>=0.15->cohere) (4.67.1)\n",
            "Requirement already satisfied: hf-xet<2.0.0,>=1.1.2 in /usr/local/lib/python3.11/dist-packages (from huggingface-hub<1.0,>=0.16.4->tokenizers<1,>=0.15->cohere) (1.1.5)\n",
            "Requirement already satisfied: sniffio>=1.1 in /usr/local/lib/python3.11/dist-packages (from anyio->httpx>=0.21.2->cohere) (1.3.1)\n"
          ]
        }
      ]
    },
    {
      "cell_type": "code",
      "source": [
        "import cohere\n",
        "\n",
        "api_key = \"CNxkIiIlHpN354LMhkljTcYaL0yOOOGV6yfR704Y\"\n",
        "co = cohere.Client(api_key)\n",
        "\n",
        "response = co.chat(\n",
        "    model='command-r',\n",
        "    message='Tell me a short story about a robot and a cat.'\n",
        ")\n",
        "\n",
        "print(response.text.strip())\n"
      ],
      "metadata": {
        "colab": {
          "base_uri": "https://localhost:8080/"
        },
        "id": "6dl9WvZM6w8e",
        "outputId": "dcbb581a-dc60-4558-99de-1f5899ff7d16"
      },
      "execution_count": null,
      "outputs": [
        {
          "output_type": "stream",
          "name": "stdout",
          "text": [
            "Once upon a time, there was a small, fluffy cat named Nya, who lived in a cozy home with her owner. Nya was an adventurous feline, always curious and full of energy. She would wander around the house, exploring every corner and climbing up on high shelves.\n",
            "\n",
            "One day, a new addition arrived in the form of a small robot. It was a sleek, silver machine, with shining eyes and a friendly voice. The robot was designed to assist with various tasks around the home and was named R5-MARK2 by its manufacturer. \n",
            "\n",
            "Nya was intrigued by the new arrival and immediately approached it, meowing in curiosity. R5-MARK2, with its gentle and calm demeanor, beeped in response, extending a small mechanical arm in a friendly gesture. \n",
            "\n",
            "The cat and robot quickly became unlikely friends. They spent time together every day. Nya would pounce at R5-MARK2's feet, pretending to attack its shiny metal toes, while the robot, with its precise movements, would gently bat at the cat's paws, playing a game of pretend combat. They enjoyed each other's company immensely.\n",
            "\n",
            "As the days passed, their bond grew stronger. Nya would curl up on R5-MARK2's lap, purring loudly, and the robot, with its soft sensors, would gently stroke the cat's fur, emitting a soothing hum. The cat's favorite game became chasing the robot's small drone companions that would fly around the room, controlled by R5-MARK2's advanced AI.\n",
            "\n",
            "The unlikely duo became known throughout the neighborhood, and their friendship spread warmth in the hearts of many. People marveled at the sight of a robot and a cat playing together so harmoniously.\n",
            "\n",
            "Nya and R5-MARK2's adventures became the stuff of local legends, and their unique companionship brought joy to the lives of those around them. They were a testament to the power of unlikely friendships and the beauty of acceptance and care.\n",
            "\n",
            "And so, the tale of the robot and the cat spread far and wide, a heartwarming story that reminded everyone that sometimes, the most unexpected friendships can be the most special ones.\n"
          ]
        }
      ]
    },
    {
      "source": [
        "# Install required packages\n",
        "!pip install -U langchain-community\n",
        "!pip install cohere langchain\n",
        "\n",
        "\n",
        "from langchain.chains import RetrievalQA\n",
        "from langchain.embeddings import CohereEmbeddings\n",
        "from langchain.llms import Cohere"
      ],
      "cell_type": "code",
      "metadata": {
        "colab": {
          "base_uri": "https://localhost:8080/"
        },
        "id": "3oRnkpVJDa7d",
        "outputId": "3d5b145c-6ce0-448f-a2e0-ed4278db8699",
        "collapsed": true
      },
      "execution_count": null,
      "outputs": [
        {
          "output_type": "stream",
          "name": "stdout",
          "text": [
            "Requirement already satisfied: langchain-community in /usr/local/lib/python3.11/dist-packages (0.3.27)\n",
            "Requirement already satisfied: langchain-core<1.0.0,>=0.3.66 in /usr/local/lib/python3.11/dist-packages (from langchain-community) (0.3.67)\n",
            "Requirement already satisfied: langchain<1.0.0,>=0.3.26 in /usr/local/lib/python3.11/dist-packages (from langchain-community) (0.3.26)\n",
            "Requirement already satisfied: SQLAlchemy<3,>=1.4 in /usr/local/lib/python3.11/dist-packages (from langchain-community) (2.0.41)\n",
            "Requirement already satisfied: requests<3,>=2 in /usr/local/lib/python3.11/dist-packages (from langchain-community) (2.32.3)\n",
            "Requirement already satisfied: PyYAML>=5.3 in /usr/local/lib/python3.11/dist-packages (from langchain-community) (6.0.2)\n",
            "Requirement already satisfied: aiohttp<4.0.0,>=3.8.3 in /usr/local/lib/python3.11/dist-packages (from langchain-community) (3.11.15)\n",
            "Requirement already satisfied: tenacity!=8.4.0,<10,>=8.1.0 in /usr/local/lib/python3.11/dist-packages (from langchain-community) (8.5.0)\n",
            "Requirement already satisfied: dataclasses-json<0.7,>=0.5.7 in /usr/local/lib/python3.11/dist-packages (from langchain-community) (0.6.7)\n",
            "Requirement already satisfied: pydantic-settings<3.0.0,>=2.4.0 in /usr/local/lib/python3.11/dist-packages (from langchain-community) (2.10.1)\n",
            "Requirement already satisfied: langsmith>=0.1.125 in /usr/local/lib/python3.11/dist-packages (from langchain-community) (0.4.4)\n",
            "Requirement already satisfied: httpx-sse<1.0.0,>=0.4.0 in /usr/local/lib/python3.11/dist-packages (from langchain-community) (0.4.0)\n",
            "Requirement already satisfied: numpy>=1.26.2 in /usr/local/lib/python3.11/dist-packages (from langchain-community) (2.0.2)\n",
            "Requirement already satisfied: aiohappyeyeballs>=2.3.0 in /usr/local/lib/python3.11/dist-packages (from aiohttp<4.0.0,>=3.8.3->langchain-community) (2.6.1)\n",
            "Requirement already satisfied: aiosignal>=1.1.2 in /usr/local/lib/python3.11/dist-packages (from aiohttp<4.0.0,>=3.8.3->langchain-community) (1.3.2)\n",
            "Requirement already satisfied: attrs>=17.3.0 in /usr/local/lib/python3.11/dist-packages (from aiohttp<4.0.0,>=3.8.3->langchain-community) (25.3.0)\n",
            "Requirement already satisfied: frozenlist>=1.1.1 in /usr/local/lib/python3.11/dist-packages (from aiohttp<4.0.0,>=3.8.3->langchain-community) (1.7.0)\n",
            "Requirement already satisfied: multidict<7.0,>=4.5 in /usr/local/lib/python3.11/dist-packages (from aiohttp<4.0.0,>=3.8.3->langchain-community) (6.6.3)\n",
            "Requirement already satisfied: propcache>=0.2.0 in /usr/local/lib/python3.11/dist-packages (from aiohttp<4.0.0,>=3.8.3->langchain-community) (0.3.2)\n",
            "Requirement already satisfied: yarl<2.0,>=1.17.0 in /usr/local/lib/python3.11/dist-packages (from aiohttp<4.0.0,>=3.8.3->langchain-community) (1.20.1)\n",
            "Requirement already satisfied: marshmallow<4.0.0,>=3.18.0 in /usr/local/lib/python3.11/dist-packages (from dataclasses-json<0.7,>=0.5.7->langchain-community) (3.26.1)\n",
            "Requirement already satisfied: typing-inspect<1,>=0.4.0 in /usr/local/lib/python3.11/dist-packages (from dataclasses-json<0.7,>=0.5.7->langchain-community) (0.9.0)\n",
            "Requirement already satisfied: langchain-text-splitters<1.0.0,>=0.3.8 in /usr/local/lib/python3.11/dist-packages (from langchain<1.0.0,>=0.3.26->langchain-community) (0.3.8)\n",
            "Requirement already satisfied: pydantic<3.0.0,>=2.7.4 in /usr/local/lib/python3.11/dist-packages (from langchain<1.0.0,>=0.3.26->langchain-community) (2.11.7)\n",
            "Requirement already satisfied: jsonpatch<2.0,>=1.33 in /usr/local/lib/python3.11/dist-packages (from langchain-core<1.0.0,>=0.3.66->langchain-community) (1.33)\n",
            "Requirement already satisfied: packaging<25,>=23.2 in /usr/local/lib/python3.11/dist-packages (from langchain-core<1.0.0,>=0.3.66->langchain-community) (24.2)\n",
            "Requirement already satisfied: typing-extensions>=4.7 in /usr/local/lib/python3.11/dist-packages (from langchain-core<1.0.0,>=0.3.66->langchain-community) (4.14.0)\n",
            "Requirement already satisfied: httpx<1,>=0.23.0 in /usr/local/lib/python3.11/dist-packages (from langsmith>=0.1.125->langchain-community) (0.28.1)\n",
            "Requirement already satisfied: orjson<4.0.0,>=3.9.14 in /usr/local/lib/python3.11/dist-packages (from langsmith>=0.1.125->langchain-community) (3.10.18)\n",
            "Requirement already satisfied: requests-toolbelt<2.0.0,>=1.0.0 in /usr/local/lib/python3.11/dist-packages (from langsmith>=0.1.125->langchain-community) (1.0.0)\n",
            "Requirement already satisfied: zstandard<0.24.0,>=0.23.0 in /usr/local/lib/python3.11/dist-packages (from langsmith>=0.1.125->langchain-community) (0.23.0)\n",
            "Requirement already satisfied: python-dotenv>=0.21.0 in /usr/local/lib/python3.11/dist-packages (from pydantic-settings<3.0.0,>=2.4.0->langchain-community) (1.1.1)\n",
            "Requirement already satisfied: typing-inspection>=0.4.0 in /usr/local/lib/python3.11/dist-packages (from pydantic-settings<3.0.0,>=2.4.0->langchain-community) (0.4.1)\n",
            "Requirement already satisfied: charset-normalizer<4,>=2 in /usr/local/lib/python3.11/dist-packages (from requests<3,>=2->langchain-community) (3.4.2)\n",
            "Requirement already satisfied: idna<4,>=2.5 in /usr/local/lib/python3.11/dist-packages (from requests<3,>=2->langchain-community) (3.10)\n",
            "Requirement already satisfied: urllib3<3,>=1.21.1 in /usr/local/lib/python3.11/dist-packages (from requests<3,>=2->langchain-community) (2.4.0)\n",
            "Requirement already satisfied: certifi>=2017.4.17 in /usr/local/lib/python3.11/dist-packages (from requests<3,>=2->langchain-community) (2025.6.15)\n",
            "Requirement already satisfied: greenlet>=1 in /usr/local/lib/python3.11/dist-packages (from SQLAlchemy<3,>=1.4->langchain-community) (3.2.3)\n",
            "Requirement already satisfied: anyio in /usr/local/lib/python3.11/dist-packages (from httpx<1,>=0.23.0->langsmith>=0.1.125->langchain-community) (4.9.0)\n",
            "Requirement already satisfied: httpcore==1.* in /usr/local/lib/python3.11/dist-packages (from httpx<1,>=0.23.0->langsmith>=0.1.125->langchain-community) (1.0.9)\n",
            "Requirement already satisfied: h11>=0.16 in /usr/local/lib/python3.11/dist-packages (from httpcore==1.*->httpx<1,>=0.23.0->langsmith>=0.1.125->langchain-community) (0.16.0)\n",
            "Requirement already satisfied: jsonpointer>=1.9 in /usr/local/lib/python3.11/dist-packages (from jsonpatch<2.0,>=1.33->langchain-core<1.0.0,>=0.3.66->langchain-community) (3.0.0)\n",
            "Requirement already satisfied: annotated-types>=0.6.0 in /usr/local/lib/python3.11/dist-packages (from pydantic<3.0.0,>=2.7.4->langchain<1.0.0,>=0.3.26->langchain-community) (0.7.0)\n",
            "Requirement already satisfied: pydantic-core==2.33.2 in /usr/local/lib/python3.11/dist-packages (from pydantic<3.0.0,>=2.7.4->langchain<1.0.0,>=0.3.26->langchain-community) (2.33.2)\n",
            "Requirement already satisfied: mypy-extensions>=0.3.0 in /usr/local/lib/python3.11/dist-packages (from typing-inspect<1,>=0.4.0->dataclasses-json<0.7,>=0.5.7->langchain-community) (1.1.0)\n",
            "Requirement already satisfied: sniffio>=1.1 in /usr/local/lib/python3.11/dist-packages (from anyio->httpx<1,>=0.23.0->langsmith>=0.1.125->langchain-community) (1.3.1)\n",
            "Requirement already satisfied: cohere in /usr/local/lib/python3.11/dist-packages (5.15.0)\n",
            "Requirement already satisfied: langchain in /usr/local/lib/python3.11/dist-packages (0.3.26)\n",
            "Requirement already satisfied: fastavro<2.0.0,>=1.9.4 in /usr/local/lib/python3.11/dist-packages (from cohere) (1.11.1)\n",
            "Requirement already satisfied: httpx>=0.21.2 in /usr/local/lib/python3.11/dist-packages (from cohere) (0.28.1)\n",
            "Requirement already satisfied: httpx-sse==0.4.0 in /usr/local/lib/python3.11/dist-packages (from cohere) (0.4.0)\n",
            "Requirement already satisfied: pydantic>=1.9.2 in /usr/local/lib/python3.11/dist-packages (from cohere) (2.11.7)\n",
            "Requirement already satisfied: pydantic-core<3.0.0,>=2.18.2 in /usr/local/lib/python3.11/dist-packages (from cohere) (2.33.2)\n",
            "Requirement already satisfied: requests<3.0.0,>=2.0.0 in /usr/local/lib/python3.11/dist-packages (from cohere) (2.32.3)\n",
            "Requirement already satisfied: tokenizers<1,>=0.15 in /usr/local/lib/python3.11/dist-packages (from cohere) (0.21.2)\n",
            "Requirement already satisfied: types-requests<3.0.0,>=2.0.0 in /usr/local/lib/python3.11/dist-packages (from cohere) (2.32.4.20250611)\n",
            "Requirement already satisfied: typing_extensions>=4.0.0 in /usr/local/lib/python3.11/dist-packages (from cohere) (4.14.0)\n",
            "Requirement already satisfied: langchain-core<1.0.0,>=0.3.66 in /usr/local/lib/python3.11/dist-packages (from langchain) (0.3.67)\n",
            "Requirement already satisfied: langchain-text-splitters<1.0.0,>=0.3.8 in /usr/local/lib/python3.11/dist-packages (from langchain) (0.3.8)\n",
            "Requirement already satisfied: langsmith>=0.1.17 in /usr/local/lib/python3.11/dist-packages (from langchain) (0.4.4)\n",
            "Requirement already satisfied: SQLAlchemy<3,>=1.4 in /usr/local/lib/python3.11/dist-packages (from langchain) (2.0.41)\n",
            "Requirement already satisfied: PyYAML>=5.3 in /usr/local/lib/python3.11/dist-packages (from langchain) (6.0.2)\n",
            "Requirement already satisfied: anyio in /usr/local/lib/python3.11/dist-packages (from httpx>=0.21.2->cohere) (4.9.0)\n",
            "Requirement already satisfied: certifi in /usr/local/lib/python3.11/dist-packages (from httpx>=0.21.2->cohere) (2025.6.15)\n",
            "Requirement already satisfied: httpcore==1.* in /usr/local/lib/python3.11/dist-packages (from httpx>=0.21.2->cohere) (1.0.9)\n",
            "Requirement already satisfied: idna in /usr/local/lib/python3.11/dist-packages (from httpx>=0.21.2->cohere) (3.10)\n",
            "Requirement already satisfied: h11>=0.16 in /usr/local/lib/python3.11/dist-packages (from httpcore==1.*->httpx>=0.21.2->cohere) (0.16.0)\n",
            "Requirement already satisfied: tenacity!=8.4.0,<10.0.0,>=8.1.0 in /usr/local/lib/python3.11/dist-packages (from langchain-core<1.0.0,>=0.3.66->langchain) (8.5.0)\n",
            "Requirement already satisfied: jsonpatch<2.0,>=1.33 in /usr/local/lib/python3.11/dist-packages (from langchain-core<1.0.0,>=0.3.66->langchain) (1.33)\n",
            "Requirement already satisfied: packaging<25,>=23.2 in /usr/local/lib/python3.11/dist-packages (from langchain-core<1.0.0,>=0.3.66->langchain) (24.2)\n",
            "Requirement already satisfied: orjson<4.0.0,>=3.9.14 in /usr/local/lib/python3.11/dist-packages (from langsmith>=0.1.17->langchain) (3.10.18)\n",
            "Requirement already satisfied: requests-toolbelt<2.0.0,>=1.0.0 in /usr/local/lib/python3.11/dist-packages (from langsmith>=0.1.17->langchain) (1.0.0)\n",
            "Requirement already satisfied: zstandard<0.24.0,>=0.23.0 in /usr/local/lib/python3.11/dist-packages (from langsmith>=0.1.17->langchain) (0.23.0)\n",
            "Requirement already satisfied: annotated-types>=0.6.0 in /usr/local/lib/python3.11/dist-packages (from pydantic>=1.9.2->cohere) (0.7.0)\n",
            "Requirement already satisfied: typing-inspection>=0.4.0 in /usr/local/lib/python3.11/dist-packages (from pydantic>=1.9.2->cohere) (0.4.1)\n",
            "Requirement already satisfied: charset-normalizer<4,>=2 in /usr/local/lib/python3.11/dist-packages (from requests<3.0.0,>=2.0.0->cohere) (3.4.2)\n",
            "Requirement already satisfied: urllib3<3,>=1.21.1 in /usr/local/lib/python3.11/dist-packages (from requests<3.0.0,>=2.0.0->cohere) (2.4.0)\n",
            "Requirement already satisfied: greenlet>=1 in /usr/local/lib/python3.11/dist-packages (from SQLAlchemy<3,>=1.4->langchain) (3.2.3)\n",
            "Requirement already satisfied: huggingface-hub<1.0,>=0.16.4 in /usr/local/lib/python3.11/dist-packages (from tokenizers<1,>=0.15->cohere) (0.33.1)\n",
            "Requirement already satisfied: filelock in /usr/local/lib/python3.11/dist-packages (from huggingface-hub<1.0,>=0.16.4->tokenizers<1,>=0.15->cohere) (3.18.0)\n",
            "Requirement already satisfied: fsspec>=2023.5.0 in /usr/local/lib/python3.11/dist-packages (from huggingface-hub<1.0,>=0.16.4->tokenizers<1,>=0.15->cohere) (2025.3.2)\n",
            "Requirement already satisfied: tqdm>=4.42.1 in /usr/local/lib/python3.11/dist-packages (from huggingface-hub<1.0,>=0.16.4->tokenizers<1,>=0.15->cohere) (4.67.1)\n",
            "Requirement already satisfied: hf-xet<2.0.0,>=1.1.2 in /usr/local/lib/python3.11/dist-packages (from huggingface-hub<1.0,>=0.16.4->tokenizers<1,>=0.15->cohere) (1.1.5)\n",
            "Requirement already satisfied: jsonpointer>=1.9 in /usr/local/lib/python3.11/dist-packages (from jsonpatch<2.0,>=1.33->langchain-core<1.0.0,>=0.3.66->langchain) (3.0.0)\n",
            "Requirement already satisfied: sniffio>=1.1 in /usr/local/lib/python3.11/dist-packages (from anyio->httpx>=0.21.2->cohere) (1.3.1)\n"
          ]
        }
      ]
    },
    {
      "cell_type": "code",
      "source": [
        "from google.colab import files\n",
        "\n",
        "# This will prompt you to upload your CSV file\n",
        "uploaded = files.upload()\n"
      ],
      "metadata": {
        "colab": {
          "base_uri": "https://localhost:8080/",
          "height": 73
        },
        "id": "37jwwHyOEPeb",
        "outputId": "da6d32a2-70fc-4d34-e740-a103fdb6ff1d"
      },
      "execution_count": null,
      "outputs": [
        {
          "output_type": "display_data",
          "data": {
            "text/plain": [
              "<IPython.core.display.HTML object>"
            ],
            "text/html": [
              "\n",
              "     <input type=\"file\" id=\"files-919d913c-29bf-4c01-89f3-f9b0ada03ae2\" name=\"files[]\" multiple disabled\n",
              "        style=\"border:none\" />\n",
              "     <output id=\"result-919d913c-29bf-4c01-89f3-f9b0ada03ae2\">\n",
              "      Upload widget is only available when the cell has been executed in the\n",
              "      current browser session. Please rerun this cell to enable.\n",
              "      </output>\n",
              "      <script>// Copyright 2017 Google LLC\n",
              "//\n",
              "// Licensed under the Apache License, Version 2.0 (the \"License\");\n",
              "// you may not use this file except in compliance with the License.\n",
              "// You may obtain a copy of the License at\n",
              "//\n",
              "//      http://www.apache.org/licenses/LICENSE-2.0\n",
              "//\n",
              "// Unless required by applicable law or agreed to in writing, software\n",
              "// distributed under the License is distributed on an \"AS IS\" BASIS,\n",
              "// WITHOUT WARRANTIES OR CONDITIONS OF ANY KIND, either express or implied.\n",
              "// See the License for the specific language governing permissions and\n",
              "// limitations under the License.\n",
              "\n",
              "/**\n",
              " * @fileoverview Helpers for google.colab Python module.\n",
              " */\n",
              "(function(scope) {\n",
              "function span(text, styleAttributes = {}) {\n",
              "  const element = document.createElement('span');\n",
              "  element.textContent = text;\n",
              "  for (const key of Object.keys(styleAttributes)) {\n",
              "    element.style[key] = styleAttributes[key];\n",
              "  }\n",
              "  return element;\n",
              "}\n",
              "\n",
              "// Max number of bytes which will be uploaded at a time.\n",
              "const MAX_PAYLOAD_SIZE = 100 * 1024;\n",
              "\n",
              "function _uploadFiles(inputId, outputId) {\n",
              "  const steps = uploadFilesStep(inputId, outputId);\n",
              "  const outputElement = document.getElementById(outputId);\n",
              "  // Cache steps on the outputElement to make it available for the next call\n",
              "  // to uploadFilesContinue from Python.\n",
              "  outputElement.steps = steps;\n",
              "\n",
              "  return _uploadFilesContinue(outputId);\n",
              "}\n",
              "\n",
              "// This is roughly an async generator (not supported in the browser yet),\n",
              "// where there are multiple asynchronous steps and the Python side is going\n",
              "// to poll for completion of each step.\n",
              "// This uses a Promise to block the python side on completion of each step,\n",
              "// then passes the result of the previous step as the input to the next step.\n",
              "function _uploadFilesContinue(outputId) {\n",
              "  const outputElement = document.getElementById(outputId);\n",
              "  const steps = outputElement.steps;\n",
              "\n",
              "  const next = steps.next(outputElement.lastPromiseValue);\n",
              "  return Promise.resolve(next.value.promise).then((value) => {\n",
              "    // Cache the last promise value to make it available to the next\n",
              "    // step of the generator.\n",
              "    outputElement.lastPromiseValue = value;\n",
              "    return next.value.response;\n",
              "  });\n",
              "}\n",
              "\n",
              "/**\n",
              " * Generator function which is called between each async step of the upload\n",
              " * process.\n",
              " * @param {string} inputId Element ID of the input file picker element.\n",
              " * @param {string} outputId Element ID of the output display.\n",
              " * @return {!Iterable<!Object>} Iterable of next steps.\n",
              " */\n",
              "function* uploadFilesStep(inputId, outputId) {\n",
              "  const inputElement = document.getElementById(inputId);\n",
              "  inputElement.disabled = false;\n",
              "\n",
              "  const outputElement = document.getElementById(outputId);\n",
              "  outputElement.innerHTML = '';\n",
              "\n",
              "  const pickedPromise = new Promise((resolve) => {\n",
              "    inputElement.addEventListener('change', (e) => {\n",
              "      resolve(e.target.files);\n",
              "    });\n",
              "  });\n",
              "\n",
              "  const cancel = document.createElement('button');\n",
              "  inputElement.parentElement.appendChild(cancel);\n",
              "  cancel.textContent = 'Cancel upload';\n",
              "  const cancelPromise = new Promise((resolve) => {\n",
              "    cancel.onclick = () => {\n",
              "      resolve(null);\n",
              "    };\n",
              "  });\n",
              "\n",
              "  // Wait for the user to pick the files.\n",
              "  const files = yield {\n",
              "    promise: Promise.race([pickedPromise, cancelPromise]),\n",
              "    response: {\n",
              "      action: 'starting',\n",
              "    }\n",
              "  };\n",
              "\n",
              "  cancel.remove();\n",
              "\n",
              "  // Disable the input element since further picks are not allowed.\n",
              "  inputElement.disabled = true;\n",
              "\n",
              "  if (!files) {\n",
              "    return {\n",
              "      response: {\n",
              "        action: 'complete',\n",
              "      }\n",
              "    };\n",
              "  }\n",
              "\n",
              "  for (const file of files) {\n",
              "    const li = document.createElement('li');\n",
              "    li.append(span(file.name, {fontWeight: 'bold'}));\n",
              "    li.append(span(\n",
              "        `(${file.type || 'n/a'}) - ${file.size} bytes, ` +\n",
              "        `last modified: ${\n",
              "            file.lastModifiedDate ? file.lastModifiedDate.toLocaleDateString() :\n",
              "                                    'n/a'} - `));\n",
              "    const percent = span('0% done');\n",
              "    li.appendChild(percent);\n",
              "\n",
              "    outputElement.appendChild(li);\n",
              "\n",
              "    const fileDataPromise = new Promise((resolve) => {\n",
              "      const reader = new FileReader();\n",
              "      reader.onload = (e) => {\n",
              "        resolve(e.target.result);\n",
              "      };\n",
              "      reader.readAsArrayBuffer(file);\n",
              "    });\n",
              "    // Wait for the data to be ready.\n",
              "    let fileData = yield {\n",
              "      promise: fileDataPromise,\n",
              "      response: {\n",
              "        action: 'continue',\n",
              "      }\n",
              "    };\n",
              "\n",
              "    // Use a chunked sending to avoid message size limits. See b/62115660.\n",
              "    let position = 0;\n",
              "    do {\n",
              "      const length = Math.min(fileData.byteLength - position, MAX_PAYLOAD_SIZE);\n",
              "      const chunk = new Uint8Array(fileData, position, length);\n",
              "      position += length;\n",
              "\n",
              "      const base64 = btoa(String.fromCharCode.apply(null, chunk));\n",
              "      yield {\n",
              "        response: {\n",
              "          action: 'append',\n",
              "          file: file.name,\n",
              "          data: base64,\n",
              "        },\n",
              "      };\n",
              "\n",
              "      let percentDone = fileData.byteLength === 0 ?\n",
              "          100 :\n",
              "          Math.round((position / fileData.byteLength) * 100);\n",
              "      percent.textContent = `${percentDone}% done`;\n",
              "\n",
              "    } while (position < fileData.byteLength);\n",
              "  }\n",
              "\n",
              "  // All done.\n",
              "  yield {\n",
              "    response: {\n",
              "      action: 'complete',\n",
              "    }\n",
              "  };\n",
              "}\n",
              "\n",
              "scope.google = scope.google || {};\n",
              "scope.google.colab = scope.google.colab || {};\n",
              "scope.google.colab._files = {\n",
              "  _uploadFiles,\n",
              "  _uploadFilesContinue,\n",
              "};\n",
              "})(self);\n",
              "</script> "
            ]
          },
          "metadata": {}
        },
        {
          "output_type": "stream",
          "name": "stdout",
          "text": [
            "Saving codebasics_faqs (1).csv to codebasics_faqs (1) (2).csv\n"
          ]
        }
      ]
    },
    {
      "source": [
        "from langchain.document_loaders.csv_loader import CSVLoader\n",
        "\n",
        "# Try specifying the encoding as 'latin-1'\n",
        "loader = CSVLoader(file_path='codebasics_faqs (1) (1).csv', source_column=\"prompt\", encoding='latin-1')\n",
        "\n",
        "# Store the loaded data in the 'data' variable\n",
        "data = loader.load()"
      ],
      "cell_type": "code",
      "metadata": {
        "id": "0j1D0w0gE6Kz"
      },
      "execution_count": null,
      "outputs": []
    },
    {
      "cell_type": "code",
      "source": [
        "data[0]"
      ],
      "metadata": {
        "colab": {
          "base_uri": "https://localhost:8080/"
        },
        "id": "nrnA_NHfs_9g",
        "outputId": "3187eee8-7d84-42ea-a3f9-783d09c1782e"
      },
      "execution_count": null,
      "outputs": [
        {
          "output_type": "execute_result",
          "data": {
            "text/plain": [
              "Document(metadata={'source': 'I have never done programming in my life. Can I take this bootcamp?', 'row': 0}, page_content='prompt: I have never done programming in my life. Can I take this bootcamp?\\nresponse: Yes, this is the perfect bootcamp for anyone who has never done coding and wants to build a career in the IT/Data Analytics industry or just wants to perform better in your current job or business using data.')"
            ]
          },
          "metadata": {},
          "execution_count": 28
        }
      ]
    },
    {
      "source": [
        "from langchain.embeddings import CohereEmbeddings\n",
        "\n",
        "# Initialize Cohere embeddings with your API key and user_agent\n",
        "cohere_api_key = \"CNxkIiIlHpN354LMhkljTcYaL0yOOOGV6yfR704Y\"\n",
        "cohere_embeddings = CohereEmbeddings(cohere_api_key=cohere_api_key, user_agent=\"langchain\") # Added user_agent\n",
        "\n",
        "# Embed your query\n",
        "query_embedding = cohere_embeddings.embed_query(\"I have never done programming in my life. Can I take this bootcamp?\")\n",
        "\n",
        "print(query_embedding)  # This is a list of floats (vector)"
      ],
      "cell_type": "code",
      "metadata": {
        "colab": {
          "base_uri": "https://localhost:8080/"
        },
        "id": "H49pR2GNHRcz",
        "outputId": "98138f5f-8ba4-4ccd-860d-63eb3d256ed1"
      },
      "execution_count": null,
      "outputs": [
        {
          "output_type": "stream",
          "name": "stdout",
          "text": [
            "[1.4199219, -0.5839844, 1.6103516, 0.36889648, -0.4404297, -0.26049805, -1.5976562, 1.671875, -1.3828125, -2.5976562, 0.5161133, -0.37548828, 1.6787109, -0.1619873, -0.2133789, 1.4960938, 3.0527344, -0.9145508, 0.63671875, -0.61572266, 1.6289062, -0.17211914, 0.52783203, -0.6591797, 1.2197266, -0.21179199, 0.58740234, -1.0253906, -1.6699219, 0.048309326, 1.0283203, 0.78125, 1.8837891, -0.6791992, 0.031402588, -0.77734375, 0.5834961, 1.6816406, -0.9394531, 0.47998047, -1.7138672, -1.4267578, -0.6850586, 0.014953613, -0.625, 0.34204102, -2.09375, 1.1777344, -0.8808594, -0.0418396, -0.77246094, -1.1230469, 0.15270996, 1.5966797, 2.6660156, -2.9355469, 0.40527344, -1.40625, -0.06878662, -1.6347656, -0.022750854, 0.41015625, -0.4230957, -1.0615234, 0.39697266, -0.8129883, 0.6411133, -0.390625, -1.7099609, -0.089904785, 0.28955078, -1.0917969, 1.5654297, -0.8959961, 1.6347656, 1.1669922, -1.5742188, 0.4260254, 1.6962891, -0.43579102, 1.6650391, -0.6508789, -0.7451172, -0.20227051, 1.5615234, -0.23071289, -0.0022583008, -2.0234375, 2.9804688, -2.0859375, 0.9140625, -0.36694336, 1.28125, 1.1943359, -0.5625, 1.3134766, -0.671875, -0.1907959, -1.0332031, 0.07904053, -2.0957031, -1.2861328, -0.023666382, 0.28320312, 1.0175781, 0.7783203, 0.75097656, 2.3671875, 1.3691406, -2.0917969, 0.025817871, -0.6533203, -1.8818359, 2.2910156, 0.5625, 0.48779297, 2.4375, 1.65625, -3.6289062, -0.3955078, 0.28955078, 0.31176758, -1.6533203, -2.9726562, 0.25634766, -0.6923828, -1.9169922, -1.3935547, 1.1162109, -1.4638672, -1.6552734, -1.2099609, 0.2902832, 0.8330078, 1.5292969, 1.3349609, 0.65722656, -0.28637695, 2.8378906, -1.4111328, -0.33276367, 1.4638672, -0.07299805, 0.28808594, -0.103881836, -1.7080078, -1.1113281, -0.1977539, 0.7163086, 0.2775879, -1.1855469, 0.0056152344, -1.5087891, 0.047210693, 2.1074219, -0.76123047, -1.1035156, -0.08758545, -0.24523926, 1.0332031, 0.7675781, -0.69091797, -0.7114258, 0.8300781, 2.6347656, -0.121154785, 2.59375, 2.6054688, -1.7197266, -0.41455078, -0.4892578, -0.9135742, 1.7060547, -1.3330078, 1.2421875, -1.5898438, 1.1953125, -4.0820312, 0.9248047, -0.7319336, 0.06286621, -1.25, -0.90478516, 1.6142578, -0.8569336, -0.41333008, 1.5029297, 0.0881958, 1.2871094, 0.22692871, 0.9682617, 0.23339844, -1.2988281, -1.6064453, 0.33007812, -1.3164062, -0.22241211, -1.3291016, -1.7792969, -2.4628906, -0.6533203, -0.5019531, 0.07678223, -2.6445312, -2.7734375, -1.0097656, -2.0839844, -0.99609375, 0.0113220215, 1.2148438, -0.9746094, -2.5839844, -0.14135742, 0.6357422, -2.7421875, 1.7568359, -1.046875, 0.49145508, 2.0117188, 1.2324219, -0.6347656, -2.8867188, -0.086364746, -1.6923828, -0.09942627, 3.6035156, -0.66015625, 0.1418457, -0.6586914, -2.234375, 1.0019531, -0.44091797, 1.8720703, 1.9609375, -0.5317383, -3.09375, -3.0625, 3.6796875, -1.5166016, 1.6904297, 1.1943359, -0.3815918, 0.09088135, -0.98291016, -0.23376465, -0.7441406, -0.5371094, -2.1640625, -1.1787109, -0.60791016, 1.6054688, -2.4375, -1.7890625, -2.7324219, -0.21813965, 1.7216797, 0.25390625, -0.63964844, 1.2402344, -1.1523438, 4.46875, 1.8613281, -0.8535156, -0.38916016, -0.41064453, -0.45825195, 0.79003906, -1.0097656, -1.2197266, 1.1054688, 4.2773438, -0.80029297, -0.37670898, -0.09124756, -0.34594727, -2.2128906, 0.11206055, -0.765625, 0.2109375, -0.42358398, 1.1347656, -0.37573242, 1.1289062, 0.7128906, 2.1757812, -0.38476562, -1.0878906, -1.375, 1.1308594, -0.79248047, -2.578125, -0.12609863, 0.1394043, -1.5087891, 0.14013672, 1.3857422, -1.0419922, -1.0683594, -0.79052734, -0.32373047, 0.8647461, 0.32714844, -0.9946289, -1.3486328, 1.7431641, -0.25878906, 0.25170898, 0.39672852, 0.87890625, 1.8652344, 0.95410156, 0.026641846, -0.99560547, -1.0625, 1.6113281, -1.5595703, 0.11895752, 1.0302734, -1.0107422, -2.9511719, 0.16418457, 0.46533203, -1.9677734, -1.1962891, -1.3652344, -0.1932373, 2.2714844, -1.3076172, 1.1044922, -0.55371094, -2.1816406, -1.1083984, 1.5107422, 1.1914062, 0.9819336, -0.3930664, -0.83691406, 2.9375, -1.2001953, 0.19360352, 0.421875, -0.7651367, 0.9160156, 1.5878906, -2.7324219, -0.05847168, 0.4399414, 2.1074219, -0.19335938, 0.17089844, 1.2841797, -2.28125, -0.04284668, 2.0820312, 0.35253906, -1.1289062, 0.01852417, -0.22717285, 1.8896484, 2.71875, 0.30566406, -0.26367188, -2.1757812, 1.7021484, 1.0292969, -2.2578125, 2.4863281, -0.7524414, 0.45092773, -1.4824219, -0.94677734, -0.10827637, -1.6865234, -1.0478516, 3.4296875, -2.3867188, 1.4365234, -0.77197266, -1.2373047, -0.2368164, 1.1210938, -0.56640625, -2.1074219, 0.765625, -0.67529297, -1.4511719, 0.7026367, 0.32666016, -1.5722656, 0.31982422, 1.7177734, 0.28979492, 0.95166016, -0.28027344, -0.5107422, -1.6953125, 1.9755859, 0.953125, -0.90625, -0.0423584, -0.3701172, -1.8378906, 0.9140625, 0.60302734, -0.38598633, 0.20996094, -0.72314453, -0.8730469, 0.24365234, -0.47558594, -2.2011719, -1.3017578, 0.9794922, -1.9501953, 0.13635254, -0.44384766, 0.91552734, -0.53808594, -0.609375, 1.5058594, -0.5263672, 2.1875, 2.4980469, 0.3642578, 0.12695312, -0.6201172, 0.7758789, -1.3789062, -0.053955078, 1.0654297, 0.95654297, 1.4628906, 1.3896484, 1.7802734, 1.7197266, 0.41625977, 1.1513672, 0.22143555, -2.0683594, -0.49682617, -0.7709961, -0.15478516, 0.3173828, -0.5522461, -1.3603516, 3.2285156, 0.1796875, 0.17797852, -0.030670166, -0.13024902, -0.0087890625, -1.0927734, -2.1992188, 1.5498047, 0.06542969, -1.6611328, 1.2929688, -2.1933594, -0.4501953, 0.8544922, -0.8857422, -1.2890625, -0.5058594, 0.28564453, 0.3701172, -0.06976318, 1.6494141, 1.09375, -1.1826172, 0.75097656, -1.2011719, 0.3347168, 0.74316406, -1.8457031, -0.08239746, -0.078552246, -0.6464844, 1.6035156, -2.3535156, 3.7167969, -2.2558594, 0.8017578, -0.9086914, 1.5732422, -0.010803223, -1.5761719, -0.92333984, -0.2331543, 1.0576172, 0.047088623, 1.0517578, 0.828125, -0.039367676, 0.7163086, 0.4951172, -2.1054688, 1.7197266, -2.1992188, 1.5048828, -0.28759766, 0.34570312, -1.3388672, 2.0058594, -2.390625, 0.36914062, 0.7895508, 0.7988281, -0.72216797, -1.6455078, 0.36621094, -0.81396484, 2.9238281, -0.42504883, -1.3232422, -1.0488281, 0.8120117, -2.0410156, 0.42041016, 0.4140625, -0.26123047, 0.05883789, -1.5361328, 0.6586914, 0.17272949, 1.1582031, 1.9902344, -0.7607422, -0.5878906, -0.7734375, 0.36328125, 3.2226562, -1.46875, -0.30908203, -0.4013672, 0.11590576, 2.0585938, 1.1572266, 0.21899414, 2.1132812, -0.95947266, 0.7651367, -0.7714844, -0.107421875, 0.21496582, 0.2854004, 0.39794922, -0.2783203, 0.7133789, -0.9580078, 2.9628906, -0.8071289, 0.10333252, 0.40844727, -1.4980469, 0.9013672, 0.37939453, -0.81152344, -0.9394531, -3.6660156, -0.82958984, -2.0234375, 1.0214844, -0.26367188, 0.5073242, 1.5820312, 2.25, 1.7197266, 0.8623047, 1.7304688, -0.7817383, 0.58984375, 0.09741211, -1.9472656, 1.7626953, -4.3515625, -1.4199219, -0.98779297, -1.8330078, -2.2265625, -1.0527344, 0.7661133, -1.2734375, -1.3144531, -0.66259766, 0.97802734, 0.3071289, -0.7963867, -2.0722656, -0.28344727, -0.34375, -0.578125, 0.3984375, 1.2158203, 1.3388672, 2.015625, -2.1894531, 0.35595703, 1.1982422, -1.6435547, -0.5732422, 0.77441406, -0.07104492, -0.56347656, -0.055541992, -2.4570312, -0.0501709, -0.2006836, -0.8125, 0.91845703, -0.6142578, 1.3515625, 1.0146484, -2.7636719, 2.5253906, 1.7363281, -1.0341797, -0.24707031, -0.51464844, -0.7446289, 1.7226562, 1.8837891, 2.0136719, -0.22973633, 0.22705078, 0.53271484, -0.61376953, -1.4443359, 0.78466797, -0.14282227, -0.6665039, -0.6616211, 6.171875, 2.1777344, -2.4003906, 1.8632812, 0.18774414, -0.0075683594, -1.5, -0.5180664, -0.37695312, -0.9501953, -1.0068359, 0.1751709, -1.5878906, -0.6748047, -1.2763672, -0.009223938, -2.8417969, -1.4560547, 1.8037109, 0.58496094, -0.23876953, 1.1416016, 1.2626953, -1.6621094, -2.78125, 0.63378906, -1.3896484, -0.09313965, 2.1152344, -1.3759766, -2.1972656, -2.1289062, 1.1455078, 0.2401123, -1.0439453, -0.40039062, 0.16430664, 1.4833984, 0.46679688, 1.2509766, -1.0654297, -0.43579102, -0.6352539, 1.6367188, -0.48828125, -0.52734375, -0.050964355, 0.54541016, 0.5229492, 0.3491211, 0.8647461, 0.012756348, -1.7119141, -1.9746094, -0.51904297, -1.2714844, -0.4584961, -0.0146484375, -1.7099609, 1.5283203, -0.2644043, 0.4802246, 1.6679688, 1.6621094, -0.3623047, -0.12084961, 0.79296875, -0.35620117, 0.66796875, 0.05947876, -0.4963379, 0.20837402, 0.14196777, 1.2597656, -0.28320312, 1.3457031, 1.6152344, 0.7602539, 2.1972656, -0.5673828, 0.41601562, -0.5048828, 0.6303711, -0.5463867, 0.06121826, 0.3317871, 1.4150391, -0.51464844, -0.35498047, 2.25, -1.0400391, -0.89501953, -0.06707764, 0.72265625, -1.5898438, -1.8642578, -0.1973877, 0.14880371, 1.1982422, 0.31591797, -1.0185547, 0.36132812, -0.13696289, -2.5996094, -1.2792969, -1.4443359, -2.2675781, -2.5351562, -0.72021484, 2.4941406, 2.3867188, 0.1496582, -0.9770508, -1.1005859, -1.1777344, -1.1875, -0.7963867, 0.3088379, 1.5341797, -0.28686523, 0.69921875, -0.7114258, 0.7080078, 0.36694336, -1.65625, -2.4980469, -1.1474609, -1.5654297, -2.6640625, 2.0039062, -0.74121094, 4.8242188, -0.40942383, 1.6640625, -0.54296875, -0.15893555, -0.9770508, -0.74072266, -0.12927246, -1.7587891, 1.6386719, 2.1953125, -0.5444336, -1.0175781, 1.046875, -0.014282227, 0.65527344, 1.6523438, 0.28466797, -0.8510742, -1.1142578, 0.28515625, -1.0732422, 0.022659302, -0.80908203, 0.9199219, -1.6884766, 0.2553711, -3.9746094, 1.6767578, 0.9638672, -0.4777832, 2.4570312, -1.1416016, -3.0117188, 3.9492188, -0.53808594, -0.70703125, 0.09265137, 0.61083984, 0.3857422, -1.140625, -0.89697266, -0.8276367, -1.7617188, 0.1274414, -1.3935547, 0.20239258, -2.1835938, -3.1132812, -1.3457031, -0.08148193, -0.5239258, -0.5830078, -0.08300781, 0.9042969, 2.2265625, 0.7998047, -0.3046875, 2.1816406, 1.5693359, -0.33496094, -0.032470703, 0.62158203, 0.31347656, -0.020812988, -1.2841797, -0.75097656, -1.8496094, 0.0814209, 1.2685547, 1.2646484, -2.0097656, 2.1621094, -0.94677734, 1.0146484, -0.54833984, -1.0546875, -0.5600586, 3.3398438, 0.3881836, 0.7441406, -0.46240234, 0.546875, -0.016052246, -1.1845703, 1.7285156, 0.68896484, 0.19628906, 0.07232666, -0.1953125, -1.0439453, 0.13012695, -1.4482422, -1.7539062, 0.8779297, -0.60253906, -0.7446289, -1.8818359, 2.2851562, -1.4697266, 1.1660156, -2.3417969, -2.9179688, 0.095947266, -0.33374023, -0.46362305, 0.5966797, 1.7773438, -0.62939453, -1.4404297, -0.13464355, 1.3076172, 1.0800781, -0.2541504, 0.8261719, -1.1621094, -0.80126953, 0.5175781, 0.22631836, 0.6010742, 0.109436035, -1.3056641, -1.265625, 0.10546875, 0.6777344, 1.2392578, -0.23913574, -0.51171875, -0.58496094, 0.7626953, -0.6904297, 0.3701172, 1.8085938, 0.06933594, 0.56347656, -1.5576172, 0.52783203, 0.54296875, -1.7949219, 0.20727539, -0.2619629, 0.44702148, -1.5498047, -1.578125, -0.23986816, -0.45947266, -2.0117188, 0.35009766, 1.1455078, -0.3774414, 0.33666992, 0.69384766, 0.2298584, -1.6865234, 0.65283203, -1.6992188, 0.30078125, 0.73339844, -1.1103516, -0.72558594, 0.33935547, 0.1862793, -1.1220703, 1.34375, -2.2460938, -0.6176758, 2.09375, -1.6875, 1.1855469, 1.3105469, 1.2050781, -1.5595703, -1.2460938, 3.0332031, 2.8769531, 1.0986328, -0.07397461, -0.44921875, -0.8833008, 0.40039062, 1.2138672, 0.009536743, -0.16259766, -0.7675781, 0.094177246, -2.15625, 0.28955078, 2.9042969, -0.9951172, -0.082214355, 1.0507812, -1.3349609, -0.8779297, 1.1132812, -0.5283203, 0.038024902, -1.0927734, 0.97265625, 1.9375, -0.77734375, -0.63964844, 0.59277344, 1.9990234, 2.8945312, 0.04119873, 2.1425781, 1.4794922, -0.84277344, 0.29101562, -0.6430664, 0.46655273, -0.89208984, 1.1181641, -0.41210938, 0.33862305, 1.6494141, -0.4091797, 2.0253906, -0.014465332, -0.9111328, -2.0039062, -0.3696289, 3.5410156, 2.5078125, 0.47827148, 1.3222656, -0.2163086, -0.35375977, -0.38183594, 0.3876953, -0.29760742, -0.15966797, -0.4892578, -1.7080078, -0.6928711, -1.4091797, 0.5805664, -0.8935547, -2.7167969, -1.4003906, -0.05822754, 0.65966797, -0.36279297, -1.6611328, 0.015106201, 0.36694336, 0.11248779, -1.3027344, 0.8569336, 1.0722656, -2.8007812, 0.6171875, 1.3095703, 3.0976562, 1.3300781, -0.89208984, 1.1513672, -0.1184082, -1.1679688, 0.3930664, 0.45751953, 0.4951172, 0.10229492, -1.1669922, -0.17590332, 0.47387695, -1.1660156, 0.51123047, -1.3837891, 2.1972656, 0.3232422, 1.3789062, 0.4272461, 0.66552734, -2.2597656, 1.6513672, -2.21875, 0.2130127, -0.095458984, -0.4326172, -1.2519531, 1.9804688, 0.1529541, -0.8671875, -0.14440918, -1.6816406, 0.9716797, 1.4931641, -0.37036133, -1.3417969, 1.0703125, 0.91552734, 0.8623047, -0.52441406, -0.41064453, 0.023849487, -1.3144531, 0.0463562, -4.1132812, 0.32763672, -0.13171387, -4.4023438, -0.06677246, -1.4277344, -0.3293457, -0.1842041, 0.3701172, 0.83251953, 2.1757812, 0.41210938, 1.0664062, -0.06188965, -0.26611328, 0.7734375, 0.68310547, -0.5673828, -0.046081543, 1.5839844, -0.29345703, -1.1279297, -1.7441406, -1.2089844, -0.6923828, -2.046875, -0.03729248, 1.4716797, 1.0439453, -2.8046875, 2.4375, -2.8691406, -2.3300781, -2.3164062, -0.85253906, -0.3623047, 2.5859375, -0.36328125, -1.0166016, 1.4316406, -0.16088867, -0.08465576, 1.2861328, 0.68408203, 2.8398438, -1.8212891, 0.039093018, -0.3330078, 0.44873047, 0.33032227, -0.2401123, -1.9140625, 1.5595703, 2.2050781, 0.8432617, -0.26513672, -0.23583984, -0.8388672, -0.5385742, 0.80908203, 1.7207031, -0.2401123, -1.6044922, 0.49780273, -2.3535156, 0.020568848, 2.7285156, 0.6538086, 0.9370117, -1.3544922, -0.29663086, 0.50878906, 0.32739258, 0.28442383, 0.31298828, -0.84814453, -0.82666016, -0.53759766, 0.31884766, -0.093566895, -0.064331055, 0.171875, 0.9873047, 2.5390625, 1.8115234, -0.8911133, 0.875, -1.5419922, 1.6035156, 0.02885437, -0.69921875, 0.7910156, -0.6381836, -0.9448242, 0.5649414, -1.5625, 1.3427734, 0.35913086, 0.08520508, -2.5527344, -2.1621094, -0.6176758, -0.9326172, -4.3007812, 1.1025391, -1.9345703, -1.3339844, -1.6630859, -0.1126709, -2.8457031, -0.41333008, -0.7949219, -0.34545898, 0.2939453, 1.0009766, -0.1697998, -0.5102539, 0.8144531, -1.3710938, 0.88964844, 1.0097656, -1.3212891, 0.39453125, -2.8300781, -1.8701172, -0.41601562, 0.9116211, 0.1307373, -0.82470703, -2.3261719, 1.4941406, -2.1601562, 1.9453125, 0.09490967, 0.1463623, 0.33447266, 1.203125, -1.3769531, -0.06304932, 1.1972656, -0.04168701, -0.68896484, -2.453125, -0.111083984, -0.38623047, 0.09906006, -1.0166016, -0.61328125, 2.0761719, 0.5761719, 0.14160156, 0.42089844, 0.9394531, 0.5332031, -3.0820312, -0.5727539, 3.4550781, -0.59716797, 0.5390625, -1.1074219, -1.5703125, -0.14245605, 0.3569336, 1.4609375, 1.1035156, 0.40185547, -1.3017578, -0.24938965, 0.38916016, -1.3007812, -0.12487793, -0.49047852, -1.2539062, -0.9946289, 0.76660156, -0.25439453, -1.8115234, -1.6152344, -0.7734375, -0.2512207, -0.07788086, 1.2871094, 0.34375, 0.097595215, -1.7587891, -1.0361328, 3.4257812, -0.68652344, 1.890625, -0.6118164, 1.1132812, -0.031188965, -0.41845703, -0.9350586, 1.2041016, -0.097961426, 0.7597656, -0.63623047, -0.15588379, 2.5722656, -2.6152344, 1.1113281, 1.6523438, -0.18408203, -0.3269043, 0.06298828, -1.9482422, 3.1152344, 1.8242188, 1.0449219, 0.32128906, 0.62597656, -0.5024414, -0.27197266, 0.20629883, 2.1328125, -5.6640625, -0.93115234, 1.5488281, -0.9941406, -0.6435547, 0.6533203, 0.013137817, -0.34448242, 0.31518555, -1.5263672, 0.13806152, -1.3652344, 1.5478516, -1.0976562, -1.4345703, 2.5136719, 1.6572266, -1.2900391, 2.4960938, 2.7949219, 2.203125, 0.21655273, 0.72802734, -1.1884766, -0.22619629, 0.7626953, -1.4296875, -0.671875, 1.0986328, 0.39379883, -1.0322266, 0.53759766, -1.2646484, -1.3691406, -1.2578125, -0.8720703, 2.5546875, -0.25439453, 1.921875, 1.1025391, -2.1621094, 0.25585938, -0.2692871, 3.1367188, -0.7788086, -0.9160156, -0.7578125, -2.5546875, -0.80371094, -1.3876953, -1.0556641, -0.25878906, 0.21252441, -1.3994141, -1.3203125, 1.2304688, -0.9663086, -0.6113281, -1.6884766, -0.99121094, -0.35253906, 1.1474609, 1.9394531, 0.79785156, 1.0888672, 0.9379883, -2.2617188, 1.6367188, -0.22436523, -0.66748047, -0.87109375, -0.6557617, 1.5527344, 0.41015625, 0.5957031, 2.1953125, 0.2368164, 0.17492676, 0.7714844, -3.4746094, -0.35424805, 1.2216797, -0.65527344, -0.58935547, -0.30566406, -0.6357422, 0.42626953, -0.07861328, -1.9404297, 3.3125, 0.33666992, -0.7451172, -0.94189453, 1.0576172, -1.1279297, 0.016174316, -0.5029297, 1.5380859, 1.1699219, -0.14465332, -1.2460938, 0.9321289, 0.6538086, -1.7558594, -0.19445801, -0.9404297, -1.0224609, 1.3398438, 1.8691406, -2.2226562, 1.3388672, -1.6669922, 0.61865234, -1.4072266, 1.7675781, 0.07495117, 1.4472656, 1.1347656, -1.4941406, -0.36108398, 0.6723633, -1.0927734, 1.7890625, 1.1484375, 2.3164062, 0.18432617, -0.0473938, 0.4074707, -0.43676758, 0.07232666, -2.7617188, -0.4248047, -0.45654297, -0.38745117, -1.7705078, 0.9765625, 1.8564453, -0.1821289, -0.5419922, -0.32470703, -0.29785156, 0.90283203, -0.5083008, 0.41015625, -0.92529297, 2.1835938, -0.25830078, -1.2333984, 2.7089844, -1.3164062, 1.9130859, 2.7578125, -4.4726562, -2.8203125, 1.6650391, -1.9033203, 1.3681641, 2.9804688, 0.06542969, 0.28100586, -1.8535156, -0.61035156, -0.9345703, 1.1699219, -1.6806641, 2.8554688, -2.5839844, -0.23352051, 0.69189453, 0.59033203, -1.6738281, -3.3808594, 0.0023345947, -0.79248047, 0.04724121, 0.9707031, 0.20727539, -0.34814453, -0.19152832, 0.013961792, 1.0449219, -2.0664062, -0.66796875, -0.2199707, 2.953125, -2.1445312, -0.6660156, -2.7832031, -0.2861328, -1.3564453, 0.3400879, -1.5722656, 0.6855469, 1.7753906, -1.203125, 0.026489258, -1.2841797, 0.38183594, 0.120666504, 2.9589844, 0.7895508, -1.5712891, 0.1743164, 2.9453125, 0.7055664, -1.515625, 0.7402344, 0.4182129, -0.039855957, 1.7412109, -2.78125, 1.9472656, -0.9140625, 0.04727173, -0.4831543, 1.1015625, -1.5820312, -0.5683594, 0.05340576, 1.1308594, 0.07446289, -0.89453125, 0.40356445, 2.5605469, -0.21948242, -0.9667969, -0.16040039, 2.1972656, -0.33520508, -0.19897461, 0.49804688, -0.83203125, 0.65185547, 2.2929688, 2.4101562, 1.5, -1.1113281, 0.5839844, 1.8046875, 0.97802734, -0.5834961, 1.2080078, -0.7480469, -0.021118164, -1.6279297, 0.9863281, -2.6738281, -1.6728516, -1.4101562, -0.5732422, 0.43896484, 0.7866211, 1.515625, -0.10229492, -0.54541016, 0.61328125, -0.3515625, 1.5390625, -0.09643555, 0.31713867, -1.6171875, -0.7182617, 2.140625, -0.09906006, -1.3886719, 3.1269531, -1.9472656, 0.07446289, 0.5332031, -0.93603516, 2.2714844, 1.3076172, 0.4885254, 2.5136719, 1.5009766, -0.4399414, 0.36328125, -0.88427734, -0.32763672, 0.5024414, -0.7441406, 1.6582031, -1.6044922, -0.087890625, -1.7197266, -1.6845703, 0.1940918, -0.34716797, 1.9189453, -1.9785156, 0.9707031, 0.96484375, 0.3881836, -2.0683594, 0.40112305, 0.56689453, -0.25219727, -3.9746094, 1.171875, -0.20117188, 0.8378906, 0.25024414, 0.7734375, -0.07287598, -0.7636719, -0.37231445, -0.8588867, 1.6201172, -2.234375, -0.13098145, 2.2558594, 1.2763672, 1.0341797, 0.09631348, 1.2675781, -1.2949219, -0.079956055, 0.8798828, -1.8544922, 0.5102539, -0.7182617, -0.88427734, 1.2666016, -0.3046875, 2.8417969, 0.33984375, 0.53222656, -0.88427734, 0.7631836, -2.3945312, -0.25585938, 2.0566406, 0.38500977, 0.03945923, 0.7265625, 1.0097656, -2.2363281, -0.13244629, -1.7773438, 0.3244629, -0.58203125, 3.4082031, -2.5332031, 4.09375, -0.55566406, -0.13305664, 0.7260742, -0.23022461, 1.5957031, -0.17126465, 0.63671875, -0.98828125, 0.53564453, 1.6855469, -1.4541016, -0.3330078, 0.94970703, 2.6835938, 1.7373047, -2.1191406, 0.33203125, -2.1269531, -1.8554688, 0.81591797, 2.4824219, -0.6933594, 3.1074219, -0.40576172, -2.21875, 0.59472656, -0.53027344, -0.9160156, 1.4365234, -1.0537109, -0.75878906, -1.8183594, 3.6210938, 0.010314941, 1.8798828, 0.35546875, -1.3076172, -0.6484375, -0.21862793, -0.7524414, 0.92333984, -2.0097656, -1.4482422, 1.9785156, -1.0966797, -3.2597656, 1.2333984, -0.9316406, -1.0263672, 0.9145508, -0.21923828, -0.19506836, -1.9960938, 2.1152344, -1.8730469, -1.1035156, -0.076416016, 0.26293945, 1.5585938, 0.3659668, -2.9570312, 3.0878906, 0.5361328, 2.0839844, 1.1347656, 0.61621094, -0.34033203, 0.77441406, -0.11102295, 0.36132812, 0.09674072, 0.03869629, -0.091552734, 1.1943359, -0.5776367, -2.6738281, 0.020080566, 0.7207031, -2.8105469, 0.4885254, -1.8994141, 1.1269531, -0.8857422, 0.1583252, 0.33129883, -0.62402344, -0.5830078, -2.1503906, -0.55859375, -1.2910156, 1.2207031, 4.5429688, 0.89501953, 0.9584961, 1.7529297, -2.4980469, 0.32226562, -1.5458984, -0.54003906, -1.0722656, 2.4902344, 0.3540039, -1.2050781, 0.29589844, -1.1484375, -0.22705078, 0.34375, -2.1796875, -0.90625, 0.99658203, 0.87939453, 2.0546875, -0.40673828, 0.29663086, -0.6044922, -2.2304688, -0.5908203, -1.2021484, -1.3203125, 3.5117188, -0.39453125, 1.7910156, 0.6850586, 1.6962891, 1.9736328, 0.0017547607, -1.5361328, -1.3291016, 0.34472656, 1.6894531, 0.48901367, -1.3808594, 0.86376953, -1.6787109, -1.5498047, 0.09008789, -1.0048828, 0.49243164, -3.0585938, 1.2236328, -1.1318359, 0.89990234, -0.40625, -0.76123047, -0.35473633, -0.8828125, -2.1445312, 1.4267578, 1.4228516, -0.3527832, -1.1757812, -0.87109375, -0.19702148, -1.0878906, 1.2128906, -0.85009766, -0.18432617, -0.052459717, -1.4277344, 0.2310791, 1.2636719, 1.0683594, -0.59228516, -0.4946289, 0.71875, -0.111328125, 0.9135742, 0.81152344, 1.1123047, -1.1376953, 1.6357422, 0.06213379, -1.0644531, 1.078125, -0.09527588, 1.4111328, -0.052886963, -0.65478516, 0.4970703, -2.1445312, -0.71435547, 0.09881592, -1.8828125, -0.059326172, 1.8759766, 0.4711914, 1.3271484, 2.2363281, 1.6699219, -0.9604492, -0.46655273, -1.75, 3.3515625, 0.006713867, -0.98291016, 2.3613281, 1.2861328, -0.14294434, -2.6484375, -1.0908203, -0.53515625, 0.5498047, 0.20056152, 1.6347656, 0.25585938, 1.8632812, 1.2851562, 1.1474609, 2.5625, 0.70214844, 1.4589844, 0.25976562, -3.6445312, -1.0615234, -2.7519531, 0.109680176, -0.21411133, -3.078125, -0.52441406, 0.671875, 2.3164062, 0.87402344, 0.4411621, -3.2441406, 1.8525391, 0.36621094, 1.8730469, -1.4052734, 0.60253906, 0.7167969, -1.2001953, 1.3769531, 1.7666016, 0.28466797, -0.5229492, -3.0722656, -1.1621094, 0.60058594, 1.8007812, -0.2064209, -0.023376465, 2.4550781, -2.3007812, -0.009765625, 1.7207031, 0.60253906, 2.5976562, 4.1601562, -0.19482422, -2.9941406, 0.5419922, -1.2275391, 0.6538086, 1.0439453, 0.3984375, 0.79345703, -1.15625, -0.028778076, -3.015625, -1.7558594, -1.9492188, 0.71435547, 0.328125, -3.1621094, -1.0576172, -1.2099609, -0.32617188, -0.11413574, -0.14990234, 1.0009766, 1.1708984, -0.044799805, -1.7353516, -2.2265625, -0.015991211, -0.24401855, -1.4052734, 1.9882812, 1.6015625, 0.8256836, 1.0644531, 0.2770996, -1.1542969, 0.029586792, -0.10961914, -2.5546875, -1.0576172, 0.20166016, -0.32080078, -1.8085938, -0.17919922, 0.30419922, 1.8427734, -3.0273438, 1.1767578, 0.50097656, -0.6225586, 0.061584473, -1.2392578, 3.5136719, -0.22583008, 0.9423828, -0.41455078, -3.1992188, 2.8203125, -0.5019531, 1.8417969, -0.123291016, 2.9628906, 2.6269531, 1.2314453, -1.5625, -0.5932617, 2.4296875, 2.1015625, -1.7285156, 0.33740234, -0.49780273, 0.57666016, -1.3085938, -0.047576904, 1.8134766, 0.3623047, -0.26123047, -2.5195312, -0.2043457, -1.484375, 1.8222656, -0.21899414, -1.0400391, -1.2089844, 1.1083984, 0.859375, -0.61865234, -0.29077148, -0.3310547, -1.7783203, 2.828125, 1.7509766, 0.5644531, -0.6689453, -1.7421875, -0.25561523, 1.9384766, 1.8115234, -0.7573242, 1.6123047, 0.1574707, -0.0032348633, 0.18041992, 2.3496094, -0.3803711, -1.2763672, -0.33984375, -0.26831055, -0.67529297, -0.37817383, -1.2158203, -1.7519531, 0.6694336, -1.8193359, 0.014373779, -1.5546875, -0.10949707, 1.8984375, 0.8613281, -0.24975586, -0.67041016, 0.57177734, 1.1894531, -1.1425781, 0.5566406, -1.2841797, -0.34106445, 1.5283203, 1.4824219, 0.15966797, -1.3574219, -2.1132812, -0.98095703, -0.4580078, 1.1640625, -0.78466797, 2.4335938, -4.15625, 1.6386719, 1.1542969, -1.4648438, 0.72265625, 0.053588867, -1.609375, -1.6455078, -2.1171875, 1.5869141, -0.006958008, 0.8666992, -0.9609375, 1.3632812, -1.2363281, 1.7128906, -0.98876953, -2.921875, 0.18615723, 1.3115234, -1.6230469, -0.68847656, -0.46142578, 0.42919922, -0.77441406, 1.6035156, 4.515625, -1.2519531, 0.36523438, -0.76904297, -1.0214844, -1.0927734, 0.5126953, 2.4570312, -0.62841797, -0.055908203, -2.9082031, 0.24084473, 1.2402344, 1.0292969, -0.21374512, -1.0419922, -0.72558594, -2.2773438, 1.1484375, -0.17333984, -0.26635742, 0.45361328, 0.5410156, 0.46240234, 1.234375, -0.31445312, -0.5253906, -0.7651367, 0.5864258, 1.5419922, -3.6113281, -0.203125, 2.2753906, 1.6835938, -0.5161133, -2.0214844, -0.6191406, 2.1191406, 0.9980469, 1.4130859, 1.125, 0.7006836, 1.6484375, -0.28027344, -1.6064453, -1.4638672, 0.121276855, -1.9863281, 2.0097656, 2.0820312, 0.33154297, 0.6845703, -0.17016602, -0.31420898, -0.1817627, 0.1105957, -0.9921875, 3.0078125, -0.36914062, 1.7519531, 0.3564453, -0.79052734, 0.059173584, 0.37963867, 1.4882812, -1.3847656, -0.1685791, -0.26953125, 0.4423828, 0.9995117, 0.5498047, -0.73339844, 1.1660156, -1.4990234, 0.28320312, 0.8466797, -1.1630859, -0.3798828, 1.4121094, -0.33447266, 0.087646484, 0.0022621155, 1.7871094, 0.5161133, -0.7993164, 1.9365234, 0.7294922, 0.07672119, 0.4050293, 1.4863281, 0.35546875, -0.42333984, -1.2617188, -1.5517578, 0.48608398, 1.3056641, -1.7978516, -0.84716797, 1.1699219, 0.41381836, 0.059692383, -0.011306763, -0.18200684, -3.2578125, 0.29858398, 0.90234375, 2.2714844, -1.0478516, -0.8144531, 0.32714844, 1.4775391, 0.2668457, 1.1337891, 2.3828125, -1.6298828, 0.38256836, -1.2363281, -1.0361328, 0.06774902, -2.1015625, -0.4194336, 1.828125, -0.5986328, -1.2929688, -1.3066406, -1.8212891, -0.70703125, 3.3554688, -3.8769531, -1.1689453, 0.6225586, -0.040039062, -1.7910156, -1.2402344, -2.2871094, 0.6567383, -0.17272949, 0.13195801, 1.3681641, -0.4428711, 1.0595703, 0.26879883, -1.2675781, -0.8383789, 4.5390625, -0.57910156, -0.40625, -1.1240234, 3.4863281, 0.073913574, 0.33422852, 0.22363281, 0.06121826, -0.8383789, 1.6025391, -0.48095703, -1.3212891, -0.31420898, -1.9628906, 0.13049316, 0.9394531, 0.7807617, -1.6640625, -1.5009766, 2.1425781, -0.18151855, 0.6166992, 0.66064453, 1.109375, -2.2441406, -0.37841797, -0.39013672, -0.64404297, -0.30126953, -3.1132812, 0.2578125, -1.1474609, 1.2871094, 0.5317383, 0.05218506, -0.37426758, -2.6699219, 0.43041992, 0.70166016, 1.0292969, 0.19909668, -0.0847168, 0.11022949, -1.2412109, 1.1738281, 1.5576172, 0.9638672, 0.75683594, 0.9140625, 1.4130859, 0.12658691, -0.5317383, -1.0517578, 0.72753906, -1.6953125, -2.4453125, 0.8486328, 0.5908203, 0.15222168, 0.8828125, -2.7089844, 0.16687012, 0.57958984, 1.6894531, 0.77685547, 0.17956543, -0.1928711, 1.1962891, 0.328125, 0.64404297, 0.6044922, -0.4074707, 1.046875, -0.57470703, 0.10247803, -0.1328125, 0.066589355, 0.59228516, 1.5429688, 0.83740234, -0.88427734, 0.2685547, -0.68066406, -2.1191406, -1.6279297, -0.82666016, -1.4921875, 0.5439453, 0.45117188, -0.023529053, 1.671875, 0.32763672, -2.1621094, -0.049621582, -2.3691406, 1.1386719, -1.1894531, -0.1706543, 0.7944336, 0.14904785, 0.93652344, 0.20483398, 2.796875, -2.4765625, -0.38964844, -1.4804688, 1.1943359, -1.6005859, 0.50146484, -2.796875, 2.7304688, -1.4921875, 1.0439453, -1.7910156, 0.24694824, 2.4472656, -2.8066406, -0.18908691, 1.7226562, 1.0986328, -0.9370117, 2.2597656, -2.2363281, 1.7958984, 0.3034668, -0.39379883, 2.03125, 0.2512207, -0.25634766, 0.051330566, 1.1025391, 3.1542969, -0.6308594, 1.9716797, 2.6503906, 0.5336914, -2.3183594, -1.9990234, -1.2226562, 0.014671326, -1.8876953, 1.4111328, -2.2558594, 2.6542969, 0.45654297, -2.1738281, -0.2697754, 2.6074219, -1.3984375, -1.5625, -0.05230713, 0.76660156, -0.6352539, 0.23303223, -0.25756836, 1.2802734, -2.7519531, 0.06347656, 0.92041016, -0.39770508, 0.34985352, -0.072021484, -2.5957031, 2.6738281, -2.9960938, -0.7470703, -0.36132812, -1.1337891, 0.6328125, -0.890625, -1.7929688, -0.6230469, 1.7236328, -0.57128906, 1.28125, 0.3947754, -0.39111328, -1.2626953, 2.1328125, 0.0914917, -0.87353516, -1.5703125, 1.40625, 1.5371094, -1.0673828, -0.47045898, -0.7734375, -1.9716797, 0.14880371, 2.1816406, 0.5751953, -0.7363281, 0.18200684, 1.2880859, 1.7998047, 1.8759766, -0.7636719, -0.5058594, 1.34375, -0.80908203, 2.3945312, -0.062347412, 0.05215454, -0.5776367, -1.2666016, -0.8833008, -0.23571777, 2.0078125, 0.8618164, 0.47802734, -0.78027344, 2.9433594, -0.6118164, -1.6435547, -0.8286133, 2.3261719, 2.0019531, -1.8525391, -0.2824707, -1.3183594, 0.37573242, 0.81933594, 0.6142578, 0.26367188, 1.8046875, 2.0273438, 0.34228516, -1.6894531, -1.7636719, 2.2832031, 0.8339844, 0.6303711, 1.8388672, -0.7729492, 1.2011719, -0.47436523, -0.6323242, -4.8476562, -2.2871094, 2.0117188, 1.4414062, 2.3085938, 1.2705078, -0.1427002, -0.7182617, -0.4008789, -0.75, -0.9819336, 0.39282227, -0.04586792, -1.3701172, -0.54296875, 0.1730957, 2.1640625, 0.9736328, -1.1376953, -1.4277344, -1.1904297, 0.94140625, -0.31274414, -1.5332031, -0.5024414, 0.101257324, -1.6367188, -0.08679199, -0.54785156, -0.64453125, -0.49121094, -1.2109375, 0.77441406, -2.0429688, 0.9404297, 0.053466797, -2.5175781, -0.6176758, -0.5180664, -0.6958008, 0.5239258, 0.12670898, -1.0068359, -1.8125, 1.2587891, 1.0166016, 1.2197266, 0.5751953, -0.7314453, 2.109375, -3.5566406, -1.328125, -1.1464844, -0.99902344, -1.0566406, 1.2304688, 1.5751953, 1.6582031, -1.109375, 2.40625, 0.9848633, -0.3671875, 0.5395508, 0.6274414, 0.20239258, 1.0351562, 1.6171875, -0.05279541, 0.31762695, -2.0839844, 0.16992188, -1.1728516, -0.6142578, 2.1074219, 0.02558899, 0.44970703, -0.296875, -1.0166016, -1.0449219, 2.7773438, 0.0625, -0.7949219, 0.87353516, -0.33740234, -0.066711426, -4.7070312, 0.7441406, 0.45898438, -0.20031738, -0.5839844, 0.12988281, 0.115234375, -1.4130859, -1.2441406, -1.1757812, 0.86865234, -0.13208008, 0.17919922, 0.71728516, 0.7944336, 0.91503906, 0.72265625, -2.3945312, 0.3383789, -1.2207031, -1.7451172, -0.6113281, 0.9863281, 0.17260742, -0.49267578, 0.9350586, -1.5654297, 0.27783203, -4.484375, -0.30517578, -0.42089844, -0.55322266, -0.8066406, 1.2109375, -0.29638672, -0.19482422, -1.6015625, -0.5258789, 1.2607422, -1.3769531, 0.9472656, -0.43725586, -2.2109375, 0.30029297, 0.7265625, -0.56103516, 1.4130859, -0.59033203, 0.9042969, 2.015625, 0.23388672, -1.0498047, 2.5371094, -0.07977295, 0.5058594, 0.63183594, 1.6923828, -1.4785156, -0.0053710938, 1.4277344, 1.1025391, 1.4716797, -0.70410156, -0.35791016, 1.2167969, -0.31079102, -0.7602539, -0.57128906, -0.92285156, -0.6464844, -1.1708984, 0.24816895, -1.1005859, 0.19445801, 0.008422852, 0.3371582, -0.21691895, 1.2685547, -1.5126953, -0.42016602, -0.18078613, 0.81396484, 0.5102539, -3.1914062, 1.6835938, 0.35424805, -0.43188477, 1.4960938, -2.0039062, 0.16491699, -0.6015625, -0.057800293, -0.9458008, -0.8652344, -1.5478516, 1.8476562, 0.5678711, 1.2675781, -1.0605469, 0.24768066, 0.5029297, -1.6494141, -2.1210938, 1.3398438, 0.0054855347, 2.46875, -0.34375, 0.041992188, 0.7553711, 1.21875, -0.17456055, 0.79345703, 1.0595703, 1.7900391, 1.2421875, -1.4550781, 2.015625, 3.1191406, 0.19189453, -1.0039062, -0.5488281, -2.6796875, 1.4316406, 1.7851562, 0.96191406, 2.6464844, -0.8833008, -0.6376953, 0.47753906, -0.061584473, -0.88671875, -1.5791016, 1.6357422, 0.86621094, 0.35546875, 0.28857422, -2.8105469, -0.7729492, 0.1628418, 2.0625, -1.3564453, -0.26245117, 1.1738281, -2.2128906, 0.9291992, -0.48608398, -0.44262695, 1.3525391, -1.1367188, -2.765625, -1.8671875, -0.97021484, 0.4909668, 0.3017578, 0.58154297, -0.11419678, -1.0263672, -2.1972656, -1.8154297, -1.9775391, -0.5395508, 0.7973633, 1.1435547, 1.2011719, 1.4638672, -0.31176758, -0.11853027, -3.0078125, 0.8520508, 1.2753906, -1.5175781, -1.9384766, 0.02104187, 0.1352539, -0.3798828, -0.9291992, -0.31298828, 1.3017578, -1.1767578, -1.4394531, 1.8242188, 0.9584961, -0.34423828, 0.14477539, 2.1171875, -0.32202148, -0.037719727, -1.5888672, 0.5, -1.3144531, -1.1044922, 0.4111328, 0.6591797, 0.3095703, -0.95214844, 0.14660645, 1.2167969, -3.9316406, 0.27392578, 0.6166992, -0.5229492, -1.0009766, -0.26953125, -1.1240234, -2.0097656, -0.29833984, 1.3251953, -2.0722656, -1.6572266, 2.7050781, 0.30664062, -1.0273438, 0.9453125, -0.042419434, -0.3330078, 0.984375, 0.4465332, 0.5107422, -1.4873047, -3.2304688, 0.9121094, -0.94189453, 0.8232422, 0.2824707, -0.8774414, -0.41870117, 2.8417969, 0.6142578, -0.33325195, 1.2070312, 0.07385254, 0.7910156, 0.33691406, 1.0849609, -1.8232422, 0.5576172, 2.3710938, 0.6269531, -1.5390625, 0.22509766, -2.4042969, 0.39404297, 0.20288086, -0.78222656, 1.1552734, -1.3007812, 0.8305664, -1.7236328, 0.19470215, 0.052490234, -1.3066406, -0.15258789, 2.0996094, 1.1210938, -0.55371094, 2.6230469, -0.9785156, 0.84716797, -0.2479248, 1.5654297, 2.6621094, 1.2177734, 0.8173828, -0.8803711, -1.7392578, 1.4853516, 2.6875, 0.11206055, -0.07019043, 1.0371094, -3.1503906, -0.4128418, -2.7109375, -1.4921875, -0.23339844, 0.57128906, 0.2944336, 0.5307617, 1.2060547, 1.5791016, 0.32763672, -1.1064453, 2.6738281, -1.6357422, -1.3271484, -4.6835938, 1.4824219, -1.0800781, 2.0722656, -0.24389648, -0.6201172, 1.2822266, -1.6757812, -0.1862793, 0.07183838, 2.1308594, -0.73291016, -1.03125, -0.18640137, 0.6816406, 0.26953125, -0.6152344, -0.16101074, -0.40820312, 0.051635742, 3.5722656, -1.8691406, 1.4707031, -0.3149414, 1.7871094, -3.5214844, -0.1105957, -0.39819336, -1.1552734, 2.9941406, -2.0097656, -0.10559082, 0.92578125, 0.6816406, -0.984375, 1.3261719, -1.2597656, -0.10992432, 0.97314453, 1.1660156, -1.0751953, -2.8671875, 4.46875, -0.5966797, 2.1992188, -0.5654297, -0.5449219, 1.5029297, -0.5756836, 0.36108398, 1.2236328, -0.62402344, -1.4306641, -1.8466797, 0.5727539, 1.5625, -1.3662109, -1.2207031, 0.28515625, -0.0446167, 1.0078125, -0.14099121, 1.4560547, -0.8359375, -2.4921875, 0.49023438, 1.7509766, 0.94677734, 1.0390625, -0.5336914, 0.2529297, -0.5888672, 0.3984375, -0.57128906, -0.53125, 1.1992188, -1.3554688, 1.9550781, 1.3779297, -1.3447266, -1.390625, 1.3603516, -0.8232422, -0.8178711, -0.84716797, -1.4482422, -0.83740234, 0.012634277, 0.80371094, -0.25634766, -0.78564453, -1.8085938, -0.05331421, 2.6835938, 3.1328125, -0.93066406, -1.8105469, 0.18347168, -2.2988281, 0.5600586, -0.73535156, 0.43823242, -0.14819336, -0.28857422, 0.6064453, 0.22314453, 0.48388672, 1.4863281, 0.051208496, 0.84033203, 0.73291016, -0.2388916, 1.0556641, 0.011016846, -0.17285156, 0.57470703, 1.3027344, 5.1914062, 1.7558594, -0.36157227, -0.00390625, -0.4399414, 0.017105103, 0.5917969, 0.41210938, -2.296875, 0.54541016, -3.9414062, 0.45336914, 2.6484375, 1.7919922, -0.40234375, 0.28466797, 0.64453125, -2.6875, -1.2011719, -0.043701172, 1.1416016, 1.5097656, 0.7675781, -1.7490234, -1.9912109, -1.8837891, -0.4584961, 0.8198242, -0.3798828, 0.26538086, -1.0761719, 0.20117188, -1.4267578, -1.0283203, 1.234375, -1.2792969, -0.77978516, -0.13842773, 0.6586914, 1.2978516, -1.1357422, 1.6708984, -1.1796875, -0.7314453, -1.5507812, -0.49023438, 0.21191406, 1.7070312, 0.80126953, 3.3125, 1.7197266, -0.79541016, -0.9213867, -2.4355469, -0.1784668, 0.7885742, 1.1171875, 0.17883301, -0.039520264, -0.7192383, -0.4453125, -0.60058594, 0.9814453, -1.2880859, -0.6464844, 1.4501953, 1.7001953, 4.2304688, -0.14038086, -1.28125, 0.89453125, 1.4863281, 2.140625, -2.2363281, 2.2089844, 1.4404297, -0.0892334, -0.24841309, 1.2851562, 2.6015625, 0.63623047, -0.27294922, 0.2939453, -2.2871094, 0.41186523, -0.45654297, 0.32177734, 1.8183594, -1.2460938, 1.2998047, -0.9692383, 1.3691406, -0.7792969, 2.1328125, -0.35302734, 0.040374756, -1.9365234, -0.3701172, 1.6044922, 0.22143555, -0.3864746, -0.8310547, 1.7529297, -0.11053467, 3.2324219, -4.265625, -0.43041992, 0.50341797, -0.7363281, 0.30493164, 0.3540039, -0.88183594, -0.98876953, -0.41918945, -1.5458984, -2.03125, 0.4658203, 1.2636719, -1.0361328, 0.17138672, -1.7451172, 2.2617188, -0.5966797, 1.1962891, -0.39233398, 0.53515625, -0.6040039, 1.0927734, -0.064819336, 1.4619141, 1.3427734, -0.55908203, -2.7597656, 1.2558594, 1.8046875, -1.0888672, 0.034179688, -1.8027344, 1.0771484, 2.2832031, -0.7573242, 0.46923828, -1.1826172, 2.1796875, 1.5605469, 1.0615234, 0.82714844, -0.20178223, -2.1386719, -0.23937988, -0.62841797, -1.4609375, -0.96435547, -2.5996094, -1.4599609, 0.84472656, 0.51904297, 1.125, -0.022140503, -1.1806641, 0.9736328, -0.109313965, -0.3564453, 0.20373535, 0.46044922, -1.3261719, -0.40478516, 0.24169922, -1.6904297, -0.4741211, 0.72216797, -1.0048828, 0.34155273, 1.6503906, 1.0507812, -0.15905762, 2.7890625, 1.4765625, 0.21716309, 1.0058594, 0.33984375, 1.0185547, -1.1181641, -0.25317383, 0.5498047, 0.19726562, 0.96972656, -0.62890625, 1.7089844, -1.1611328, 2.2695312, -1.0117188, -0.84033203, -0.24633789, 1.0273438, -1.4492188, 2.4882812, 0.5263672, -0.65185547, -0.2487793, -0.43652344, -1.0371094, 0.35351562, -1.8212891, -0.47583008, 0.6152344, 0.2076416, 1.7138672, 1.0078125, -0.3269043, -0.23999023, -0.12438965, -0.48510742, 1.4443359, 1.9550781, 0.6347656, -0.034057617, -0.94433594, 2.8652344, -1.7978516, -0.8833008, -0.28857422, -1.4960938, 0.34814453, -0.34765625, 0.077941895, -1.5488281, 2.3046875, -1.5976562, -0.76953125, 0.46142578, -1.5175781, 1.703125, 0.8833008, 1.1074219, -0.82714844, 1.7568359, 0.47802734, -0.31591797, 2.5703125, -0.35668945, -0.84277344, -2.5800781, 0.17333984, -1.4726562, 0.2697754, -1.28125, 2.1347656, -4.4140625, -1.765625, 0.92626953, 0.64746094, 2.3125, -1.0898438, 2.234375, -0.90771484, 1.0048828, 1.4443359, 0.83447266, -4.7578125, 0.8540039, -0.33911133, 1.0166016, 0.9682617, -0.18261719, -1.1816406, -1.5605469, 0.055114746, -0.19104004, -2.2089844, 0.6035156, 0.34838867, -0.1472168, -1.7529297, 2.1113281, -0.33789062, -1.1074219, 1.2880859, -3.5449219, 0.03970337, 0.12042236, 1.0449219, 0.43188477, 2.3710938, -0.7753906, -0.6855469, 0.9560547, -1.4150391, 1.0078125, 1.4160156, 0.70214844, -0.9580078, -1.7060547, 2.40625, 1.7021484, -0.38378906, 2.2988281, -0.028930664, 1.2392578, -0.17602539, 1.0751953, 1.3476562, 0.20898438, -1.0429688, 2.1074219, 0.84228516, 0.041107178, -1.4726562, 2.1699219, 0.77978516, 1.4833984, 1.9609375, -0.8330078, -2.28125, 2.046875, 1.7734375, -0.76904297, -1.0253906, 0.7138672, 2.1542969, -0.1184082, 0.34301758, -2.8398438, -0.9472656, -0.9067383, 0.7919922, 0.8046875, -0.86083984, 1.1220703, 1.5419922, 0.34838867, 0.035705566, -3.0136719, -0.25878906, -0.7631836, -1.1298828, -1.6259766, 0.3557129, 2.6503906, 0.8520508, -0.86035156, 3.3867188, -1.7226562, 2.5722656, 1.4091797, -0.6542969, 1.0625, 0.6220703, -0.28076172, -2.5351562, 1.5751953, -0.32885742, 4.9804688, -0.7026367, 0.10205078, 0.14794922, -0.58251953, 0.8569336, -0.78466797, -1.2382812, -0.92822266, 2.546875, 1.4765625, -0.22851562, -0.36865234, 1.9023438, -0.2644043, -0.5419922, 0.48095703, 2.1777344, -0.9580078, 1.5898438, -0.55908203, 0.33496094, 0.15563965, -0.6801758, 0.2163086, 0.3894043, 2.0605469, -2.4316406, -1.5898438, 0.006072998, 1.7285156, 1.0126953, -1.6728516, 0.42504883, 0.44140625, -0.8671875, -1.0507812, -2.3027344, 0.043701172, -0.5053711, 2.15625, 0.12402344, -0.40454102, -0.56640625, 0.45410156, -0.14916992, -1.0341797, -2.5527344, 0.37451172, 0.7026367, -0.5576172, 0.30297852, 1.4365234, 2.9179688, 1.0839844, -1.3691406, -2.0351562, 0.60253906, 1.8203125, 2.2382812, -0.8857422, 0.71777344, -0.10876465, 1.3330078, -0.5541992, -0.05505371, 1.1953125, -3.4394531, 0.07080078, 0.82910156, -1.4072266, 0.25585938, 0.859375, 0.1418457, 2.2617188, 1.0039062, 0.63623047, -0.30078125, -0.013000488, -0.5800781, 1.1005859, -0.29541016, 0.09490967, -1.1972656, -0.04449463, -0.4230957, 0.36547852, -1.2246094, -0.0051231384, 0.55615234, 0.9042969, 0.24768066, 1.2099609, 0.21557617, 1.1230469, -1.6279297, 0.031707764, 3.7480469, -0.49389648, 0.9370117, 1.0742188, 1.3183594, 0.4873047, 0.2644043, 0.69189453, 0.47070312, 1.3183594, 0.29223633, -0.89453125, -0.5283203, -0.34375, 1.1308594, -1.1035156, 1.0146484, -0.9526367, -0.6777344, 1.7363281, 0.36669922, -1.0917969, 0.8798828, -0.85791016, 1.5341797, 1.5068359, 2.0234375, -0.60546875, -0.4152832, -1.34375, 1.0458984, 1.171875, 0.44921875, -2.4902344, -2.1367188, 1.890625, -1.6132812, -1.3886719, -0.56347656, -0.18554688, 1.0625, 1.6923828, 2.8222656, 0.69970703, -1.1142578, -0.33911133, -0.83203125, 1.7880859, 0.78515625, -0.61621094, 1.5585938, -2.2832031, -1.3974609, -1.0820312, 1.0175781, -0.7944336, 0.7338867, 3.7148438, 0.81103516, 0.67578125, -1.3349609, 1.6318359, 1.3427734, -2.7539062, -1.5917969, 1.0537109, -1.4208984, 1.3847656, 1.3427734, 0.63183594, -2.3339844, 0.082092285, -3.2402344, -1.2324219, 1.8027344, 0.8666992, 0.10290527, -0.9272461, 0.46655273, -0.7866211, -2.1289062, -0.14562988, 0.23693848, -1.0712891, 1.1386719, 1.1787109, 0.30444336, -0.021759033, 0.23498535, 1.3828125, 0.21398926, -0.1607666, 1.7744141, 1.3964844, 0.26635742, 0.57470703, 1.9472656, -2.03125, 1.7451172, 1.6240234, -0.8105469, -0.65283203, -0.11694336, 0.54052734, -0.77441406, -0.08911133, 1.2783203, 0.34472656, 1.6972656, -0.73535156, -2.0273438, -0.90527344, -0.10949707, -3.0703125, 1.5595703, -1.1689453, 0.09082031, 0.16955566, 0.22802734, 0.020141602, -0.9926758, 0.53466797, -0.98095703, 1.9306641, -1.1708984, -0.6513672, -1.9169922, 1.7509766, 0.46679688, 2.3261719, -0.83154297, -0.24768066, 0.4716797, -0.62646484, -0.7294922, -0.22460938, -2.6152344, -1.7480469, -1.3642578, 1.3164062, 0.8803711, 1.1357422, 0.36401367, -1.0898438, 1.0898438, -2.6171875, 1.6298828, 0.09851074, -1.1728516, 0.27734375, 0.8339844, 0.82470703, 1.4072266, 0.26660156, -0.7324219, 3.7773438, 0.36816406, -1.1298828, -1.5722656, -2.5117188, 3.7539062, -1.9619141, 0.55566406, 0.9038086, 0.42919922, 0.5625, -0.58251953, 0.023864746, 1.7255859, -0.22387695, 0.94384766, 0.7470703, 1.8408203, 0.22680664, 1.3896484, 1.7587891, -0.6801758, 0.28393555, 0.70654297, -0.47851562, 1.0966797, 1.5205078, 3.3867188, -0.18310547, 1.3613281, 0.38330078, -0.5644531, 0.87060547, -0.25952148, -0.77783203, -1.4101562, 2.4199219, -0.8881836, -0.6826172, -0.052001953, 0.07086182, 0.6503906, 1.7197266, -0.64746094, -1.9511719, -0.10290527, 0.042816162, 0.92578125, -2.0605469, 0.008850098, 1.3046875, 0.43286133, -1.3642578, 0.44799805, -0.3798828, -1.859375, -0.9038086, -1.1669922, 0.3791504, -1.2949219, -0.26513672, -1.3515625, 1.2265625, 0.34985352, -1.0927734, 1.2587891, -0.35668945, -0.8129883, -0.6479492, 0.24719238, 2.6816406, 1.1132812, 0.07763672, 1.1542969, -1.8896484, -0.2553711, 2.7636719, 1.1611328, 1.8769531, 1.4765625, 0.56591797, 0.09655762, -2.5292969, 1.0986328, -0.39013672, -1.1376953, 0.72802734, -0.00982666, -0.48754883, 1.3134766, 2.0546875, -0.114868164, -0.24694824, 2.3222656, 0.9589844, 0.5205078, -0.40478516, -1.0869141, 1.8476562, 1.4130859, 0.90234375, -1.4179688, 2.6953125, -0.14672852, 1.515625, -0.90527344, -0.8959961, -2.7109375, -1.6357422, -0.2734375, 0.4194336, -1.8115234, 1.5703125, 1.4169922, -0.044555664, -0.63134766, 0.35424805, -1.8242188, 0.5214844, 1.3632812, 2.0527344, -1.796875, 0.16247559, 1.5205078, -1.1748047, 0.7290039, -2.1425781, 3.578125, -1.6308594, -0.9160156, -2.5683594, -2.515625, -2.1523438, 0.13391113, -0.3010254, 0.74072266, -0.75341797, 1.1845703, 0.5234375, -0.50927734, 2.7070312, 0.7558594, -0.7055664, 0.3310547, -1.4130859, -0.73095703, 0.034454346, 0.14916992, -0.70703125, 1.7324219, -3.0, -0.27783203, 0.14660645, 1.2783203, -1.5097656, 0.57666016, 1.9804688, 3.0410156, -1.1269531, 2.5507812, 0.70947266, -0.89941406, 0.5410156, -1.2890625, 1.8212891, 0.86865234, -0.4494629, 0.14709473, -0.17089844, 2.0136719, 0.4243164, -1.3017578, 2.0292969, -0.46850586, 2.328125, -0.5332031, -0.0018062592, 1.5400391, -1.609375, -3.8554688, -1.6572266, -1.4404297, -2.9257812, -1.9707031, -0.05718994, 0.28686523, 1.4023438, -0.80810547, 1.4863281, -1.5087891, 1.7275391, -2.2128906, -2.09375, -0.95654297, 2.5351562, -0.004272461, -1.2861328, 0.17797852, 0.47753906, 1.1240234, -0.87353516, 1.1308594, 1.2949219, -1.8867188, 0.30566406, -0.69970703, 1.1894531, 1.7519531, 0.5410156, -1.7441406, -1.2207031, 1.4638672, 0.38232422, 1.8935547, 1.0146484, 0.16308594, 0.76660156, 0.44189453, -2.0039062, 0.19934082, 0.40771484, 1.625, 2.7441406, -3.3789062, 3.6210938, 0.78515625, -0.7421875, -1.4091797, -1.0507812, 0.34692383, -0.099243164, 1.3964844, -1.3330078, 1.7548828, -0.08190918, -0.16455078, -0.7397461, 1.3212891, 0.8046875, -0.36865234, 0.09259033, 1.1230469, 0.515625, -1.2265625, -0.21789551, -2.984375, 0.5625, 0.16357422, 1.5869141, -0.69677734, 0.6796875, -2.5234375, 1.1171875, -1.4892578, -0.3947754, 0.1743164, -1.8320312, -1.0527344, -2.0722656, 1.2373047, -0.091918945, 1.1308594, 3.2265625, -0.080322266, 0.59814453, -1.1044922, -0.24633789, -0.7558594, -1.3027344, 1.0029297, 2.7675781, 0.45654297, -0.13537598, -0.4567871, -0.5439453, 1.1005859, 0.5288086, 0.9477539, -1.3974609, -0.65283203, -1.6064453, 0.41918945, -1.21875, 1.984375, 0.12414551, -0.30981445, -0.9604492, 1.2382812, 0.32104492, 1.0126953, 0.5214844, 0.32421875, -1.2529297, 0.7529297, -0.64501953, 0.4230957, 1.0087891, 0.38745117, -0.4951172, -1.8417969, 1.7177734, 0.8935547, 0.32666016, -0.33666992, 0.21203613, -0.13769531, 2.0546875, 4.2890625, -2.0917969, 1.1767578, 0.88671875, 0.96728516, -2.4140625, 3.4570312, 0.9511719, -1.1962891, 0.66845703, -2.015625, 0.23413086, -2.65625, 0.12597656, -0.8925781, 0.5942383, -0.52685547, 3.3183594, -3.4882812, 1.4853516, 0.24365234, -0.1274414, -0.4519043, -4.65625, -0.8730469, 0.1784668, -0.21386719, 0.96875, -0.9614258, 1.3798828, -3.0898438, 1.4541016, -0.3852539, 1.3505859, -1.4238281, 2.1269531, -3.1425781, -0.74609375, 1.0966797, 1.2207031, 1.9179688, 1.7509766, -0.04058838, -1.6669922, 0.5283203, -0.50341797, 2.4785156, -0.45361328, 0.8388672, 0.95947266, 1.9765625, 0.3474121, -1.5751953, 0.11450195, 0.5649414, -0.068237305, 0.8847656, 0.05166626, -3.2988281, 2.1835938, -1.2441406, -2.4238281, -0.5761719, 0.46191406, -0.036499023, 0.14611816, 0.34423828, 0.1796875, -1.6464844, 0.17407227, 2.1230469, 0.6303711, 0.28759766, -3.1308594, 0.14855957, 0.49414062, -0.41479492, -0.97998047, 0.20874023, 1.4453125, -1.828125, -1.2949219, -0.33154297, 0.07543945, -1.5576172, -0.36523438, -0.49951172, -3.1347656, -0.08111572, -0.73828125, -0.8203125, 1.4111328, 0.78125, -1.0078125, -0.17468262, -0.09716797, -0.8300781, 2.4199219, 0.95458984, 1.78125, 0.3876953, -1.2919922, -1.4785156, 0.3564453, -1.0078125, -0.375, 2.5996094, -0.14733887, -0.3125, 0.00039672852, 1.7177734, -1.3769531, 0.45263672, -0.72265625, 2.2265625, -0.6621094, -0.7636719, 0.2788086, 0.7246094, -1.2568359, -1.5244141, 1.1337891, 1.5976562, 1.1523438, -0.40576172, 0.013061523, -0.9272461, -0.2355957, -0.43481445, 0.12573242, 4.0703125, 0.66796875, -1.2275391, -0.14733887, 0.4013672, 1.5634766, 1.2519531, 0.17736816, -0.088256836, -0.5830078, 0.7583008, 1.0830078, -2.2226562, -1.6972656, 1.7587891, -0.34375, -0.104003906, 1.7246094, -0.39453125, -1.8828125, 0.30737305, -0.57373047, 0.53808594, -0.73046875, -4.9804688, 2.4179688, -0.8852539, 2.9550781, -0.48657227, -1.0605469, 0.08129883, 0.48754883, 0.024597168, 0.4086914, 3.453125, 0.06921387, 0.11462402, -0.68652344, 1.0478516, -1.4296875, -1.3300781, 0.7397461, -0.45532227, 0.23950195, -0.59033203, 1.875, 0.46484375, -1.09375, 1.1259766, 1.5458984, -1.6044922, 0.61376953, 2.6035156, 0.52783203, 2.7265625, -2.1953125, -0.012420654, 0.6640625, 0.3486328, 0.7373047, 2.390625, 0.8305664, -2.3496094, -2.3828125, 0.5161133, 0.56152344, -0.18225098, -0.83496094, -0.36499023, 1.8330078, 1.5078125, -3.3085938, 2.0761719, 2.4726562, 1.5498047, 0.2524414, -0.07385254, 0.6069336, 1.1826172, 0.23791504, -0.95458984, -1.3496094, 0.14794922, 0.59716797, 4.1640625, -0.86816406, -0.56933594, -0.20019531, 1.3955078, 0.12646484, 1.2929688, -0.04736328, -2.0722656, 0.23144531, 0.14953613, -0.7504883, 1.1914062, -0.34399414, -2.0898438, -0.77734375, 1.5527344, -0.011505127, -0.09136963, -1.1621094, 0.75634766, 0.3737793, 2.5253906, -0.6958008, 2.1875, 0.15637207, 2.015625, -0.9560547, 2.15625, -0.9589844, -0.8852539, 0.02494812, -1.9189453, -1.0322266, -4.09375, -0.4309082, 1.5410156, 0.82958984, -0.18615723, 0.15197754, -2.0722656, -3.0605469, 0.44018555, 0.29785156, 0.19042969, -1.2363281, 0.3227539, 2.1933594, -0.8930664, 0.95166016, 0.6748047, -0.40771484, -3.7636719, -0.0017700195, -1.4589844, 0.2861328, 0.5786133, 0.060577393, 0.09643555, 0.56347656, 1.1494141, -0.74902344, -0.5966797, -0.15722656, -2.4082031, 0.10986328, -1.5634766, 0.22302246, -1.0146484, 1.6542969, -0.76953125, 3.0820312]\n"
          ]
        }
      ]
    },
    {
      "cell_type": "code",
      "source": [
        "!pip install faiss-cpu"
      ],
      "metadata": {
        "colab": {
          "base_uri": "https://localhost:8080/"
        },
        "id": "B6AxUBFEq3oS",
        "outputId": "784d973c-eb27-497e-bbf9-120dc5bff8f2"
      },
      "execution_count": null,
      "outputs": [
        {
          "output_type": "stream",
          "name": "stdout",
          "text": [
            "Requirement already satisfied: faiss-cpu in /usr/local/lib/python3.11/dist-packages (1.11.0)\n",
            "Requirement already satisfied: numpy<3.0,>=1.25.0 in /usr/local/lib/python3.11/dist-packages (from faiss-cpu) (2.0.2)\n",
            "Requirement already satisfied: packaging in /usr/local/lib/python3.11/dist-packages (from faiss-cpu) (24.2)\n"
          ]
        }
      ]
    },
    {
      "source": [
        "from langchain.vectorstores import FAISS\n",
        "\n",
        "# Create FAISS vector store from your documents\n",
        "# Replace instructor_embeddings with cohere_embeddings\n",
        "vectordb = FAISS.from_documents(documents=data, embedding=cohere_embeddings)\n",
        "\n",
        "# Create retriever with score threshold inside search_kwargs\n",
        "retriever = vectordb.as_retriever()"
      ],
      "cell_type": "code",
      "metadata": {
        "id": "NdgPnGEDWqX3"
      },
      "execution_count": null,
      "outputs": []
    },
    {
      "cell_type": "code",
      "source": [
        "rdocs = retriever.get_relevant_documents(\" Can I take this bootcamp?\")\n",
        "rdocs"
      ],
      "metadata": {
        "colab": {
          "base_uri": "https://localhost:8080/"
        },
        "id": "OHOqHyMxKPpo",
        "outputId": "6cb5fe70-ed1d-408f-9c02-0ef1d228f8c8"
      },
      "execution_count": null,
      "outputs": [
        {
          "output_type": "execute_result",
          "data": {
            "text/plain": [
              "[Document(id='95a2e130-9cd0-4da4-be7f-e91b0ee5f8d5', metadata={'source': 'Can I attend this bootcamp while working full time?', 'row': 9}, page_content='prompt: Can I attend this bootcamp while working full time?\\nresponse: Yes. This bootcamp is self-paced. You can learn on your own schedule.'),\n",
              " Document(id='23473688-ef76-4b68-b09f-65123a7e4782', metadata={'source': 'I\\x92m not sure if this bootcamp is good enough for me to invest some \\nmoney. What can I do?', 'row': 4}, page_content='prompt: I\\x92m not sure if this bootcamp is good enough for me to invest some \\nmoney. What can I do?\\nresponse: We got you covered. Go ahead and watch our youtube videos if you like them and want to learn further then this bootcamp is the perfect extension.'),\n",
              " Document(id='ff36e331-d615-40c9-a935-f7ea31f4ddd5', metadata={'source': 'I have never done programming in my life. Can I take this bootcamp?', 'row': 0}, page_content='prompt: I have never done programming in my life. Can I take this bootcamp?\\nresponse: Yes, this is the perfect bootcamp for anyone who has never done coding and wants to build a career in the IT/Data Analytics industry or just wants to perform better in your current job or business using data.'),\n",
              " Document(id='d99a6231-085d-440a-afd1-4ceb3634e5ea', metadata={'source': 'Is there any prerequisite for taking this bootcamp ?', 'row': 2}, page_content='prompt: Is there any prerequisite for taking this bootcamp ?\\nresponse: Our bootcamp is specifically designed for beginners with no prior experience in this field. The only prerequisite is that you need to have a functional laptop with at least 4GB ram, an internet connection, and a thrill to learn data analysis.')]"
            ]
          },
          "metadata": {},
          "execution_count": 48
        }
      ]
    }
  ]
}